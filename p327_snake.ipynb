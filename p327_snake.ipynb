{
 "cells": [
  {
   "cell_type": "code",
   "execution_count": 173,
   "id": "editorial-invite",
   "metadata": {},
   "outputs": [],
   "source": [
    "N = 6\n",
    "K = 3\n",
    "'''   1 2 3 4 5 6\n",
    "    - - - - - - - -\n",
    "  1 |            \n",
    "  2 |         X\n",
    "  3 |       X\n",
    "  4 |  \n",
    "  5 |     X\n",
    "  6 |\n",
    "    - - - - - - - - \n",
    "\n",
    "'''\n",
    "\n",
    "'''move\n",
    "3 D # 오른쪽\n",
    "15 L # 왼쪽\n",
    "17 D\n",
    "'''\n",
    "move = [[3,'D'],\n",
    "       [15,'L'],\n",
    "       [17, 'D']]\n",
    "\n",
    "apple = [[3,4],\n",
    "        [2,5],\n",
    "        [5,3]]\n",
    "# 목표 : 벽에 닿거나, 몸에 닿으면 겜은 끝남. 몇초만에 끝나는지 알아보시오"
   ]
  },
  {
   "cell_type": "code",
   "execution_count": 180,
   "id": "engaging-interpretation",
   "metadata": {},
   "outputs": [],
   "source": [
    "N = 10\n",
    "K = 4\n",
    "\n",
    "'''   1 2 3 4 5 6\n",
    "    - - - - - - - -\n",
    "  1 |   X X X X      \n",
    "  2 |         \n",
    "  3 |       \n",
    "  4 |  \n",
    "  5 |     \n",
    "  6 |\n",
    "    - - - - - - - - \n",
    "\n",
    "'''\n",
    "\n",
    "\n",
    "\n",
    "apple = [[1,2],\n",
    "        [1,3],\n",
    "        [1,4],\n",
    "        [1,5]]\n",
    "\n",
    "\n",
    "move = [[8,'D'],\n",
    "       [10,'D'],\n",
    "       [11, 'D'],\n",
    "       [13, 'L']]\n",
    "# 목표 : 벽에 닿거나, 몸에 닿으면 겜은 끝남. 몇초만에 끝나는지 알아보시오"
   ]
  },
  {
   "cell_type": "code",
   "execution_count": 194,
   "id": "wound-convenience",
   "metadata": {},
   "outputs": [],
   "source": [
    "N = 10\n",
    "K = 5\n",
    "\n",
    "'''   1 2 3 4 5 6\n",
    "    - - - - - - - -\n",
    "  1 |   X X X X      \n",
    "  2 |         \n",
    "  3 |       \n",
    "  4 |  \n",
    "  5 |     \n",
    "  6 |\n",
    "    - - - - - - - - \n",
    "\n",
    "'''\n",
    "\n",
    "\n",
    "\n",
    "apple = [[1,5],\n",
    "        [1,3],\n",
    "        [1,2],\n",
    "        [1,6],\n",
    "        [1,7]]\n",
    "\n",
    "\n",
    "move = [[8,'D'],\n",
    "       [10,'D'],\n",
    "       [11, 'D'],\n",
    "       [13, 'L']]\n",
    "# 목표 : 벽에 닿거나, 몸에 닿으면 겜은 끝남. 몇초만에 끝나는지 알아보시오"
   ]
  },
  {
   "cell_type": "code",
   "execution_count": 195,
   "id": "according-lounge",
   "metadata": {},
   "outputs": [],
   "source": [
    "current_act = 1\n",
    "array=[]\n",
    "\n",
    "for idx,i in enumerate(move):\n",
    "    for _ in range(i[0]):\n",
    "        array.append(current_act)\n",
    "    if i[1] == 'D':\n",
    "        current_act += 1\n",
    "    elif i[1] == 'L':\n",
    "        current_act -= 1\n",
    "\n",
    "for _ in range(N):\n",
    "    array.append(current_act)"
   ]
  },
  {
   "cell_type": "code",
   "execution_count": 196,
   "id": "victorian-clothing",
   "metadata": {},
   "outputs": [],
   "source": [
    "def eat_apple(data, apple):\n",
    "    apple1 = apple.copy()\n",
    "    data1 = data.copy()\n",
    "    if data1[0] in apple1:\n",
    "        apple1.remove(data1[0])\n",
    "    return data1[-1], apple1\n"
   ]
  },
  {
   "cell_type": "code",
   "execution_count": 197,
   "id": "irish-georgia",
   "metadata": {},
   "outputs": [],
   "source": [
    "def move(data1, array):\n",
    "    summation = array\n",
    "    data = data1.copy()\n",
    "    if abs(summation % 4) == 1 : #오른쪽 방향\n",
    "            data[1] += 1\n",
    "    elif abs(summation % 4) == 2 : # 아래 방향\n",
    "            data[0] += 1\n",
    "    elif abs(summation % 4) == 3 : # 왼쪽 방향\n",
    "            data[1] -= 1\n",
    "    elif abs(summation % 4) == 0:                         # 위방향\n",
    "            data[0] -= 1\n",
    "    return data"
   ]
  },
  {
   "cell_type": "code",
   "execution_count": 198,
   "id": "abandoned-circle",
   "metadata": {},
   "outputs": [
    {
     "name": "stdout",
     "output_type": "stream",
     "text": [
      "[[1, 1]] [[1, 5], [1, 3], [1, 2], [1, 6], [1, 7]]\n",
      "[[1, 2]] [[1, 5], [1, 3], [1, 6], [1, 7]]\n",
      "[[1, 3], [1, 2]] [[1, 5], [1, 6], [1, 7]]\n",
      "[[1, 4], [1, 3], [1, 2]] [[1, 5], [1, 6], [1, 7]]\n",
      "[[1, 5], [1, 4], [1, 3]] [[1, 6], [1, 7]]\n",
      "[[1, 6], [1, 5], [1, 4], [1, 3]] [[1, 7]]\n",
      "[[1, 7], [1, 6], [1, 5], [1, 4], [1, 3]] []\n",
      "[[1, 8], [1, 7], [1, 6], [1, 5], [1, 4], [1, 3]] []\n",
      "[[1, 9], [1, 8], [1, 7], [1, 6], [1, 5], [1, 4]] []\n",
      "[[2, 9], [1, 9], [1, 8], [1, 7], [1, 6], [1, 5]] []\n",
      "[[3, 9], [2, 9], [1, 9], [1, 8], [1, 7], [1, 6]] []\n",
      "[[4, 9], [3, 9], [2, 9], [1, 9], [1, 8], [1, 7]] []\n",
      "[[5, 9], [4, 9], [3, 9], [2, 9], [1, 9], [1, 8]] []\n",
      "[[6, 9], [5, 9], [4, 9], [3, 9], [2, 9], [1, 9]] []\n",
      "[[7, 9], [6, 9], [5, 9], [4, 9], [3, 9], [2, 9]] []\n",
      "[[8, 9], [7, 9], [6, 9], [5, 9], [4, 9], [3, 9]] []\n",
      "[[9, 9], [8, 9], [7, 9], [6, 9], [5, 9], [4, 9]] []\n",
      "[[10, 9], [9, 9], [8, 9], [7, 9], [6, 9], [5, 9]] []\n",
      "[[11, 9], [10, 9], [9, 9], [8, 9], [7, 9], [6, 9]] []\n"
     ]
    }
   ],
   "source": [
    "body = [[1,1]]\n",
    "# 1,2 1,1\n",
    "\n",
    "right = 0\n",
    "\n",
    "for idx, i in enumerate(array):\n",
    "    \n",
    "    \n",
    "    tmp, apple1 = eat_apple(body, apple)\n",
    "    print(body, apple1)\n",
    "    if body[0][0] < 1:\n",
    "        break\n",
    "    elif body[0][1] < 1:\n",
    "        break\n",
    "    elif body[0][0] > N:\n",
    "        break\n",
    "    elif body[0][1] > N:\n",
    "        break\n",
    "    elif body[0] in body[1:]:\n",
    "        break\n",
    "        \n",
    "    if len(apple) != len(apple1): # 애플을 먹은 경우\n",
    "        for jdx, j in enumerate(body):\n",
    "            body[jdx] = move(j, array[right-jdx])\n",
    "        right += 1\n",
    "        body.append(tmp)\n",
    "        apple = apple1\n",
    "    else:\n",
    "        for jdx, j in enumerate(body):\n",
    "            body[jdx] = move(j, array[right-jdx])\n",
    "        right += 1"
   ]
  },
  {
   "cell_type": "code",
   "execution_count": 199,
   "id": "saved-character",
   "metadata": {},
   "outputs": [
    {
     "data": {
      "text/plain": [
       "18"
      ]
     },
     "execution_count": 199,
     "metadata": {},
     "output_type": "execute_result"
    }
   ],
   "source": [
    "right"
   ]
  },
  {
   "cell_type": "code",
   "execution_count": null,
   "id": "impressed-gender",
   "metadata": {},
   "outputs": [],
   "source": []
  },
  {
   "cell_type": "code",
   "execution_count": 37,
   "id": "infectious-bracelet",
   "metadata": {},
   "outputs": [],
   "source": [
    "\n",
    "\n",
    "\n",
    "for idx, i in enumerate(body):\n",
    "    body = move(i, array[idx])\n",
    "\n",
    "    \n",
    "    \n",
    "\n",
    "\n",
    "check = dict()\n"
   ]
  },
  {
   "cell_type": "code",
   "execution_count": 38,
   "id": "increasing-belarus",
   "metadata": {},
   "outputs": [
    {
     "data": {
      "text/plain": [
       "[1, -1]"
      ]
     },
     "execution_count": 38,
     "metadata": {},
     "output_type": "execute_result"
    }
   ],
   "source": [
    "body"
   ]
  },
  {
   "cell_type": "code",
   "execution_count": 16,
   "id": "located-opinion",
   "metadata": {},
   "outputs": [
    {
     "data": {
      "text/plain": [
       "0"
      ]
     },
     "execution_count": 16,
     "metadata": {},
     "output_type": "execute_result"
    }
   ],
   "source": [
    "body[0][1]-1"
   ]
  },
  {
   "cell_type": "code",
   "execution_count": null,
   "id": "dedicated-pharmaceutical",
   "metadata": {},
   "outputs": [],
   "source": []
  }
 ],
 "metadata": {
  "kernelspec": {
   "display_name": "Python 3",
   "language": "python",
   "name": "python3"
  },
  "language_info": {
   "codemirror_mode": {
    "name": "ipython",
    "version": 3
   },
   "file_extension": ".py",
   "mimetype": "text/x-python",
   "name": "python",
   "nbconvert_exporter": "python",
   "pygments_lexer": "ipython3",
   "version": "3.8.6"
  }
 },
 "nbformat": 4,
 "nbformat_minor": 5
}
