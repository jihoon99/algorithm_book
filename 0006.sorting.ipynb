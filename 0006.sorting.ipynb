{
 "cells": [
  {
   "cell_type": "markdown",
   "id": "fancy-discipline",
   "metadata": {},
   "source": [
    "# 정렬 알고리즘"
   ]
  },
  {
   "cell_type": "code",
   "execution_count": 1,
   "id": "japanese-mortality",
   "metadata": {},
   "outputs": [],
   "source": [
    "# 정렬 많이 씀. 특히 정렬을 하고난뒤 이진 탐색으로 넘어가는 경우가 많다.\n",
    "# 정렬의 대표적인 유형들은, 선택정렬, 삽입정렬, 퀵정렬, 계수정렬이 있다"
   ]
  },
  {
   "cell_type": "markdown",
   "id": "altered-memorabilia",
   "metadata": {},
   "source": [
    "## 선택정렬"
   ]
  },
  {
   "cell_type": "code",
   "execution_count": null,
   "id": "reported-membrane",
   "metadata": {},
   "outputs": [],
   "source": [
    "# 데이터가 무작위로 여러 개 있을때 이 중에서 가장 작은 데이터를 선택해 맨 앞에 있는 데이터와 바꿈., 그 다믕 작은 데이터를 선택해 앞에서 두번째 데이터와 바꾸는 과정을 반복.\n"
   ]
  }
 ],
 "metadata": {
  "kernelspec": {
   "display_name": "Python 3",
   "language": "python",
   "name": "python3"
  },
  "language_info": {
   "codemirror_mode": {
    "name": "ipython",
    "version": 3
   },
   "file_extension": ".py",
   "mimetype": "text/x-python",
   "name": "python",
   "nbconvert_exporter": "python",
   "pygments_lexer": "ipython3",
   "version": "3.8.6"
  }
 },
 "nbformat": 4,
 "nbformat_minor": 5
}
