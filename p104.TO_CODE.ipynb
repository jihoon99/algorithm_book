{
 "cells": [
  {
   "cell_type": "code",
   "execution_count": 1,
   "id": "large-handling",
   "metadata": {},
   "outputs": [
    {
     "data": {
      "text/plain": [
       "'\\n리스트를 여러 개 선언하고, 그 중에서 크기가 1000만 이상인 리스트가 있따면 용량 제한으로 문제를 풀 수 없다.\\n하지만 이런 문제는 없음... \\n'"
      ]
     },
     "execution_count": 1,
     "metadata": {},
     "output_type": "execute_result"
    }
   ],
   "source": [
    "#ACM-ICPC, Google Code Jam\n",
    "\n",
    "# 완전탐색, 시뮬레이션\n",
    "# 완전탐색 : 모든 경우의 수를 다 계산하는 방법\n",
    "# 시뮬레이션 : 문제에서 제시한 알고리즘을 한 단계씩 차례대로 수행\n",
    "\n",
    "# 파이선의 메모리 문제\n",
    "'''\n",
    "리스트를 여러 개 선언하고, 그 중에서 크기가 1000만 이상인 리스트가 있따면 용량 제한으로 문제를 풀 수 없다.\n",
    "하지만 이런 문제는 없음... \n",
    "'''"
   ]
  },
  {
   "cell_type": "markdown",
   "id": "limited-concentrate",
   "metadata": {},
   "source": [
    "# 구현 문제에 접근하는 방법"
   ]
  },
  {
   "cell_type": "markdown",
   "id": "ruled-slope",
   "metadata": {},
   "source": [
    "## 1. 상하좌우"
   ]
  },
  {
   "cell_type": "code",
   "execution_count": 30,
   "id": "boolean-reasoning",
   "metadata": {},
   "outputs": [],
   "source": [
    "N = 5 # N*N 2nd-dimension\n",
    "moves = ['R','R','R','U','D','D']\n",
    "\n",
    "# start_point : top-left\n",
    "# cannot move to out of the given box. being ignored."
   ]
  },
  {
   "cell_type": "code",
   "execution_count": 31,
   "id": "precious-catalyst",
   "metadata": {},
   "outputs": [],
   "source": [
    "# 0. movement function\n",
    "def movement(state, move, N):\n",
    "    \n",
    "    ''' 한번의 무브'''\n",
    "    \n",
    "    state_copy = state.copy()\n",
    "    if move == 'R':\n",
    "        state_copy[1] = min(state_copy[1]+1,N)\n",
    "        return state_copy\n",
    "    \n",
    "    elif move == 'L':\n",
    "        state_copy[1] = max(state_copy[1]-1, 1)\n",
    "        return state_copy\n",
    "    \n",
    "    elif move == 'U':\n",
    "        state_copy[0] = max(state_copy[0]-1, 1)\n",
    "        return state_copy\n",
    "    \n",
    "    elif move == 'D':\n",
    "        state_copy[0] = min(state_copy[0]+1, N)\n",
    "        return state_copy"
   ]
  },
  {
   "cell_type": "code",
   "execution_count": 32,
   "id": "prime-tonight",
   "metadata": {},
   "outputs": [],
   "source": [
    "state = [1,1]\n",
    "\n",
    "for i in moves:\n",
    "    state = movement(state, i, N)"
   ]
  },
  {
   "cell_type": "code",
   "execution_count": 33,
   "id": "invisible-richmond",
   "metadata": {},
   "outputs": [
    {
     "data": {
      "text/plain": [
       "[3, 4]"
      ]
     },
     "execution_count": 33,
     "metadata": {},
     "output_type": "execute_result"
    }
   ],
   "source": [
    "state"
   ]
  },
  {
   "cell_type": "code",
   "execution_count": null,
   "id": "agreed-noise",
   "metadata": {},
   "outputs": [],
   "source": []
  },
  {
   "cell_type": "markdown",
   "id": "incredible-rally",
   "metadata": {},
   "source": [
    "# 답"
   ]
  },
  {
   "cell_type": "code",
   "execution_count": 37,
   "id": "martial-implementation",
   "metadata": {},
   "outputs": [],
   "source": [
    "# L, R, U, D에 따른 이동 방향\n",
    "plans = ['R','R','R','U','D','D']\n",
    "x,y = 1,1\n",
    "dx = [0,0,-1,-1]\n",
    "dy = [-1,1,0,0]\n",
    "n = 5\n",
    "move_types = ['L','R','U','D']\n",
    "\n",
    "for plan in plans:\n",
    "    for i in range(len(move_types)):\n",
    "        if plan == move_types[i]:\n",
    "            nx = x + dx[i]\n",
    "            ny = y + dy[i]\n",
    "    \n",
    "    if nx < 1 or ny < 1 or nx > n or ny > n:\n",
    "        continue\n",
    "    x,y = nx, ny"
   ]
  },
  {
   "cell_type": "code",
   "execution_count": null,
   "id": "fifty-checklist",
   "metadata": {},
   "outputs": [],
   "source": []
  },
  {
   "cell_type": "code",
   "execution_count": null,
   "id": "martial-bosnia",
   "metadata": {},
   "outputs": [],
   "source": []
  }
 ],
 "metadata": {
  "kernelspec": {
   "display_name": "Python 3",
   "language": "python",
   "name": "python3"
  },
  "language_info": {
   "codemirror_mode": {
    "name": "ipython",
    "version": 3
   },
   "file_extension": ".py",
   "mimetype": "text/x-python",
   "name": "python",
   "nbconvert_exporter": "python",
   "pygments_lexer": "ipython3",
   "version": "3.8.6"
  }
 },
 "nbformat": 4,
 "nbformat_minor": 5
}
