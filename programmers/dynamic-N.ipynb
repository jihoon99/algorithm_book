{
 "cells": [
  {
   "cell_type": "markdown",
   "id": "numerical-plant",
   "metadata": {},
   "source": [
    "<img src=\"./png/n.png\" width = '1000' height = '1500'><br>"
   ]
  },
  {
   "cell_type": "code",
   "execution_count": 1,
   "id": "immune-alert",
   "metadata": {},
   "outputs": [],
   "source": [
    "N = 5\n",
    "number = 12\n",
    "# return 4"
   ]
  },
  {
   "cell_type": "code",
   "execution_count": null,
   "id": "hungry-raise",
   "metadata": {},
   "outputs": [],
   "source": []
  }
 ],
 "metadata": {
  "kernelspec": {
   "display_name": "Python 3",
   "language": "python",
   "name": "python3"
  },
  "language_info": {
   "codemirror_mode": {
    "name": "ipython",
    "version": 3
   },
   "file_extension": ".py",
   "mimetype": "text/x-python",
   "name": "python",
   "nbconvert_exporter": "python",
   "pygments_lexer": "ipython3",
   "version": "3.8.6"
  }
 },
 "nbformat": 4,
 "nbformat_minor": 5
}
