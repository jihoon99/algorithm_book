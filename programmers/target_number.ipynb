{
 "cells": [
  {
   "cell_type": "code",
   "execution_count": 17,
   "id": "ethical-necessity",
   "metadata": {},
   "outputs": [],
   "source": [
    "numbers = [1,1,1,1,1]\n",
    "target = 3"
   ]
  },
  {
   "cell_type": "code",
   "execution_count": null,
   "id": "lucky-preservation",
   "metadata": {},
   "outputs": [],
   "source": []
  },
  {
   "cell_type": "code",
   "execution_count": null,
   "id": "tired-beast",
   "metadata": {},
   "outputs": [],
   "source": []
  },
  {
   "cell_type": "code",
   "execution_count": null,
   "id": "maritime-relay",
   "metadata": {},
   "outputs": [],
   "source": []
  },
  {
   "cell_type": "code",
   "execution_count": 18,
   "id": "million-power",
   "metadata": {},
   "outputs": [],
   "source": [
    "count = 0\n",
    "\n",
    "\n",
    "def solution(numbers,  target, su = 0, cnt= 0):\n",
    "    global count\n",
    "    \n",
    "    if cnt == len(numbers):\n",
    "        if su == target:\n",
    "            count += 1\n",
    "        return su\n",
    "    pop_ = numbers[cnt]\n",
    "    cnt += 1\n",
    "    su1 = su + pop_\n",
    "    su2 = su - pop_\n",
    "    # print(f'count : {count:4f}   su : {su:3}   su1 : {su1:2}   su2 : {su2:2}')\n",
    "\n",
    "    \n",
    "    solution(numbers = numbers, su = su1, cnt = cnt, target = target)\n",
    "    solution(numbers = numbers, su = su2, cnt = cnt, target = target)\n",
    "    \n",
    "    return count"
   ]
  },
  {
   "cell_type": "code",
   "execution_count": 19,
   "id": "empty-lightning",
   "metadata": {},
   "outputs": [
    {
     "name": "stdout",
     "output_type": "stream",
     "text": [
      "count : 0.000000   su :   0   su1 :  1   su2 : -1\n",
      "count : 0.000000   su :   1   su1 :  2   su2 :  0\n",
      "count : 0.000000   su :   2   su1 :  3   su2 :  1\n",
      "count : 0.000000   su :   3   su1 :  4   su2 :  2\n",
      "count : 0.000000   su :   4   su1 :  5   su2 :  3\n",
      "count : 1.000000   su :   2   su1 :  3   su2 :  1\n",
      "count : 2.000000   su :   1   su1 :  2   su2 :  0\n",
      "count : 2.000000   su :   2   su1 :  3   su2 :  1\n",
      "count : 3.000000   su :   0   su1 :  1   su2 : -1\n",
      "count : 3.000000   su :   0   su1 :  1   su2 : -1\n",
      "count : 3.000000   su :   1   su1 :  2   su2 :  0\n",
      "count : 3.000000   su :   2   su1 :  3   su2 :  1\n",
      "count : 4.000000   su :   0   su1 :  1   su2 : -1\n",
      "count : 4.000000   su :  -1   su1 :  0   su2 : -2\n",
      "count : 4.000000   su :   0   su1 :  1   su2 : -1\n",
      "count : 4.000000   su :  -2   su1 : -1   su2 : -3\n",
      "count : 4.000000   su :  -1   su1 :  0   su2 : -2\n",
      "count : 4.000000   su :   0   su1 :  1   su2 : -1\n",
      "count : 4.000000   su :   1   su1 :  2   su2 :  0\n",
      "count : 4.000000   su :   2   su1 :  3   su2 :  1\n",
      "count : 5.000000   su :   0   su1 :  1   su2 : -1\n",
      "count : 5.000000   su :  -1   su1 :  0   su2 : -2\n",
      "count : 5.000000   su :   0   su1 :  1   su2 : -1\n",
      "count : 5.000000   su :  -2   su1 : -1   su2 : -3\n",
      "count : 5.000000   su :  -2   su1 : -1   su2 : -3\n",
      "count : 5.000000   su :  -1   su1 :  0   su2 : -2\n",
      "count : 5.000000   su :   0   su1 :  1   su2 : -1\n",
      "count : 5.000000   su :  -2   su1 : -1   su2 : -3\n",
      "count : 5.000000   su :  -3   su1 : -2   su2 : -4\n",
      "count : 5.000000   su :  -2   su1 : -1   su2 : -3\n",
      "count : 5.000000   su :  -4   su1 : -3   su2 : -5\n"
     ]
    }
   ],
   "source": [
    "solution(numbers,target)"
   ]
  },
  {
   "cell_type": "code",
   "execution_count": null,
   "id": "capital-sellers",
   "metadata": {},
   "outputs": [],
   "source": [
    "from collections import deque\n",
    "\n",
    "def solution(numbers, target):\n",
    "    answer = 0\n",
    "    queue = deque([(0, 0)]) # sum, level\n",
    "    while queue:\n",
    "        s, l = queue.popleft()\n",
    "        if l > len(numbers):\n",
    "            break\n",
    "        elif l == len(numbers) and s == target:\n",
    "            answer += 1\n",
    "        queue.append((s+numbers[l-1], l+1))\n",
    "        queue.append((s-numbers[l-1], l+1))\n",
    "\n",
    "    return answer"
   ]
  }
 ],
 "metadata": {
  "kernelspec": {
   "display_name": "Python 3",
   "language": "python",
   "name": "python3"
  },
  "language_info": {
   "codemirror_mode": {
    "name": "ipython",
    "version": 3
   },
   "file_extension": ".py",
   "mimetype": "text/x-python",
   "name": "python",
   "nbconvert_exporter": "python",
   "pygments_lexer": "ipython3",
   "version": "3.8.6"
  }
 },
 "nbformat": 4,
 "nbformat_minor": 5
}
