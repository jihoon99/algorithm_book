{
 "cells": [
  {
   "cell_type": "code",
   "execution_count": 1,
   "id": "informational-gothic",
   "metadata": {},
   "outputs": [],
   "source": [
    "def solution(dartResult):\n",
    "\n",
    "    ls = [0]\n",
    "\n",
    "    for idx,i in enumerate(dartResult):\n",
    "        tmp_result = 0\n",
    "\n",
    "        if i in ['S','D','T']:\n",
    "            if i == 'S':\n",
    "                upper = 1\n",
    "            elif i == 'D':\n",
    "                upper = 2\n",
    "            elif i == 'T':\n",
    "                upper = 3\n",
    "\n",
    "\n",
    "\n",
    "\n",
    "            if dartResult[idx-2:idx] == '10' and idx-2 >= 0:\n",
    "                tmp_result = 10**upper\n",
    "            else:\n",
    "                tmp_result = int(dartResult[idx-1])**upper\n",
    "\n",
    "\n",
    "\n",
    "            try:\n",
    "                if dartResult[idx+1] in ['*','#']:\n",
    "                    option = dartResult[idx+1]\n",
    "\n",
    "            except:\n",
    "                option = None\n",
    "\n",
    "            if option == '*':\n",
    "                tmp_result *= 2\n",
    "                ls[-1] = ls[-1]*2\n",
    "\n",
    "            elif option == '#':\n",
    "                tmp_result *= -1\n",
    "\n",
    "\n",
    "            ls.append(tmp_result)\n",
    "\n",
    "    return sum(ls)"
   ]
  },
  {
   "cell_type": "code",
   "execution_count": null,
   "id": "cooked-toner",
   "metadata": {},
   "outputs": [],
   "source": []
  }
 ],
 "metadata": {
  "kernelspec": {
   "display_name": "Python 3",
   "language": "python",
   "name": "python3"
  },
  "language_info": {
   "codemirror_mode": {
    "name": "ipython",
    "version": 3
   },
   "file_extension": ".py",
   "mimetype": "text/x-python",
   "name": "python",
   "nbconvert_exporter": "python",
   "pygments_lexer": "ipython3",
   "version": "3.8.6"
  }
 },
 "nbformat": 4,
 "nbformat_minor": 5
}
