{
 "cells": [
  {
   "cell_type": "code",
   "execution_count": 352,
   "id": "american-handling",
   "metadata": {},
   "outputs": [],
   "source": [
    "# costs = [[0,1,1],[0,2,2],[1,2,5],[1,3,1],[2,3,8]]\n",
    "# n = 4\n",
    "\n",
    "costs = [[0,1,5],[1,2,3],[2,3,3],[3,1,2],[3,0,4],[2,4,6],[4,0,7]]\n",
    "n = 5\n"
   ]
  },
  {
   "cell_type": "code",
   "execution_count": 353,
   "id": "cooperative-shanghai",
   "metadata": {},
   "outputs": [],
   "source": [
    "costs = sorted(costs, key = lambda x: x[2])\n",
    "\n",
    "from collections import deque\n",
    "costs = deque(costs)\n",
    "\n",
    "islands = []\n",
    "\n",
    "cnt = 0\n",
    "islands = deque([])\n"
   ]
  },
  {
   "cell_type": "code",
   "execution_count": null,
   "id": "digital-general",
   "metadata": {},
   "outputs": [],
   "source": []
  },
  {
   "cell_type": "code",
   "execution_count": 354,
   "id": "limited-render",
   "metadata": {},
   "outputs": [],
   "source": [
    "current_info = costs.popleft()\n",
    "current_island = current_info[:2]\n",
    "current_cnt = current_info[2]\n",
    "\n",
    "\n",
    "islands.append(current_island)\n",
    "cnt += current_cnt\n"
   ]
  },
  {
   "cell_type": "code",
   "execution_count": 355,
   "id": "genuine-ebony",
   "metadata": {},
   "outputs": [
    {
     "data": {
      "text/plain": [
       "deque([[1, 2, 3], [2, 3, 3], [3, 0, 4], [0, 1, 5], [2, 4, 6], [4, 0, 7]])"
      ]
     },
     "execution_count": 355,
     "metadata": {},
     "output_type": "execute_result"
    }
   ],
   "source": [
    "costs"
   ]
  },
  {
   "cell_type": "code",
   "execution_count": 356,
   "id": "strong-visit",
   "metadata": {},
   "outputs": [
    {
     "name": "stdout",
     "output_type": "stream",
     "text": [
      "i [3, 1]\n",
      "thing_to_appdn [3, 1, 2]\n",
      "i [1, 2, 3]\n",
      "thing_to_appdn [1, 2, 3, 0]\n",
      "i [0, 1, 2, 3]\n",
      "thing_to_appdn [0, 1, 2, 3, 4]\n"
     ]
    }
   ],
   "source": [
    "for _ in range(len(costs)):\n",
    "    \n",
    "    current_info = costs.popleft()\n",
    "    current_island = current_info[:2]\n",
    "    current_cnt = current_info[2]\n",
    "    \n",
    "    i,j = current_island\n",
    "    thing_to_remove = []\n",
    "    thing_to_remove_index = []\n",
    "    thing_to_append = []\n",
    "    \n",
    "    \n",
    "    for k in range(len(islands)):\n",
    "        if i in islands[k] and j in islands[k]:\n",
    "            break\n",
    "            \n",
    "        if i in islands[k]:\n",
    "            print('i',islands[k])\n",
    "            thing_to_append += islands[k]+[j]\n",
    "            cnt += current_cnt\n",
    "#             islands.append(list(set(islands[k] + current_island)))\n",
    "            islands.remove(islands[k])\n",
    "            \n",
    "        elif j in islands[k]:\n",
    "            print('j',islands[k])\n",
    "            thing_to_append += islands[k]+[i]\n",
    "            cnt += current_cnt\n",
    "#             thing_to_remove.append(islands[k])\n",
    "#             cnt += current_cnt\n",
    "#             islands.append(list(set(islands[k] + current_island)))\n",
    "            islands.remove(islands[k])\n",
    "            \n",
    "        else:\n",
    "            cnt += current_cnt\n",
    "            islands.append([i,j])\n",
    "        \n",
    "        print('thing_to_appdn', thing_to_append)\n",
    "        islands.append(list(set(thing_to_append)))\n",
    "            \n",
    "    if len(islands[0]) == n:\n",
    "        answer = cnt\n",
    "        break\n",
    "        \n",
    "        "
   ]
  },
  {
   "cell_type": "code",
   "execution_count": null,
   "id": "genuine-growth",
   "metadata": {},
   "outputs": [],
   "source": []
  },
  {
   "cell_type": "code",
   "execution_count": null,
   "id": "suited-rugby",
   "metadata": {},
   "outputs": [],
   "source": []
  },
  {
   "cell_type": "code",
   "execution_count": null,
   "id": "guilty-review",
   "metadata": {},
   "outputs": [],
   "source": []
  },
  {
   "cell_type": "code",
   "execution_count": null,
   "id": "continuous-joining",
   "metadata": {},
   "outputs": [],
   "source": []
  },
  {
   "cell_type": "code",
   "execution_count": null,
   "id": "affecting-development",
   "metadata": {},
   "outputs": [],
   "source": []
  },
  {
   "cell_type": "code",
   "execution_count": null,
   "id": "employed-listening",
   "metadata": {},
   "outputs": [],
   "source": []
  },
  {
   "cell_type": "code",
   "execution_count": null,
   "id": "operational-subscriber",
   "metadata": {},
   "outputs": [],
   "source": []
  },
  {
   "cell_type": "code",
   "execution_count": 330,
   "id": "obvious-superintendent",
   "metadata": {},
   "outputs": [
    {
     "data": {
      "text/plain": [
       "15"
      ]
     },
     "execution_count": 330,
     "metadata": {},
     "output_type": "execute_result"
    }
   ],
   "source": [
    "answer"
   ]
  },
  {
   "cell_type": "code",
   "execution_count": 319,
   "id": "ahead-journal",
   "metadata": {},
   "outputs": [
    {
     "data": {
      "text/plain": [
       "[0, 1, 2, 3, 4]"
      ]
     },
     "execution_count": 319,
     "metadata": {},
     "output_type": "execute_result"
    }
   ],
   "source": [
    "thing_to_append"
   ]
  },
  {
   "cell_type": "code",
   "execution_count": null,
   "id": "commercial-blond",
   "metadata": {},
   "outputs": [],
   "source": []
  },
  {
   "cell_type": "code",
   "execution_count": null,
   "id": "greek-request",
   "metadata": {},
   "outputs": [],
   "source": []
  },
  {
   "cell_type": "code",
   "execution_count": null,
   "id": "civic-racing",
   "metadata": {},
   "outputs": [],
   "source": []
  },
  {
   "cell_type": "code",
   "execution_count": null,
   "id": "unexpected-camcorder",
   "metadata": {},
   "outputs": [],
   "source": []
  },
  {
   "cell_type": "code",
   "execution_count": null,
   "id": "loaded-minutes",
   "metadata": {},
   "outputs": [],
   "source": []
  },
  {
   "cell_type": "code",
   "execution_count": null,
   "id": "literary-constitution",
   "metadata": {},
   "outputs": [],
   "source": []
  },
  {
   "cell_type": "code",
   "execution_count": null,
   "id": "desperate-emphasis",
   "metadata": {},
   "outputs": [],
   "source": []
  },
  {
   "cell_type": "code",
   "execution_count": null,
   "id": "powerful-wallet",
   "metadata": {},
   "outputs": [],
   "source": []
  },
  {
   "cell_type": "code",
   "execution_count": null,
   "id": "supreme-camping",
   "metadata": {},
   "outputs": [],
   "source": []
  },
  {
   "cell_type": "code",
   "execution_count": null,
   "id": "minor-apartment",
   "metadata": {},
   "outputs": [],
   "source": []
  },
  {
   "cell_type": "code",
   "execution_count": 224,
   "id": "heavy-meeting",
   "metadata": {},
   "outputs": [],
   "source": [
    "test = [[3,1],[1,2]]\n",
    "\n",
    "remove = [0,1]\n",
    "\n",
    "\n",
    "def remove_add(test, remove):\n",
    "    '''test : islands\n",
    "    remove : list to remove\n",
    "    '''\n",
    "    things_array = []\n",
    "    things_element = []\n",
    "    for i in remove:\n",
    "        things_array.append(test[i])\n",
    "        things_element += test[i]\n",
    "    things_element = list(set(things_element))\n",
    "\n",
    "    for i in things_array:\n",
    "        test.remove(i)\n",
    "\n",
    "    return test.appendleft(things_element)"
   ]
  },
  {
   "cell_type": "code",
   "execution_count": 223,
   "id": "removable-federal",
   "metadata": {},
   "outputs": [
    {
     "data": {
      "text/plain": [
       "[]"
      ]
     },
     "execution_count": 223,
     "metadata": {},
     "output_type": "execute_result"
    }
   ],
   "source": [
    "def find_remove_list(islands):\n",
    "    for i in range(len(islands)):\n",
    "        base = islands[i]\n",
    "        \n",
    "        for jdx, j,k in enumerate(islands[i:]):\n",
    "            if j in base and k in base:\n",
    "                continue\n",
    "            else:\n",
    "                if j in base:\n",
    "                    i,jdx"
   ]
  },
  {
   "cell_type": "code",
   "execution_count": null,
   "id": "nominated-opera",
   "metadata": {},
   "outputs": [],
   "source": []
  },
  {
   "cell_type": "code",
   "execution_count": null,
   "id": "engaged-toronto",
   "metadata": {},
   "outputs": [],
   "source": []
  },
  {
   "cell_type": "code",
   "execution_count": 212,
   "id": "dirty-liberal",
   "metadata": {},
   "outputs": [
    {
     "data": {
      "text/plain": [
       "True"
      ]
     },
     "execution_count": 212,
     "metadata": {},
     "output_type": "execute_result"
    }
   ],
   "source": [
    "3 in [1,2,3]"
   ]
  },
  {
   "cell_type": "code",
   "execution_count": 205,
   "id": "innovative-carrier",
   "metadata": {},
   "outputs": [],
   "source": [
    "def check(islands):\n",
    "    length = len(islands)\n",
    "    if length > 1:\n",
    "        things_to_remove = []\n",
    "        things_to_remove1 = []\n",
    "        \n",
    "#         if i,j in islands: don't count\n",
    "\n",
    "        base = islands[0]\n",
    "        for idx, i,j in enumerate(islands[1:]):\n",
    "            if i in base and j in base:\n",
    "                continue\n",
    "            else:\n",
    "                if i in base:\n",
    "                    things_to_remove.append([i,j])\n",
    "                    things_to_remove1 += [i,j]\n",
    "                elif j in base:\n",
    "                    things_to_remove.append([i,j])\n",
    "                    things_to_remove1 += [i,j]\n",
    "                \n",
    "            \n",
    "            for k,j in islands[i]:\n",
    "                for m in range(i+1, length):\n",
    "                    a = [k,j] in islands[m:]\n",
    "        \n",
    "        \n",
    "        \n",
    "#             for  in range(2):\n",
    "#                 for k in range(i+1, length):\n",
    "#                     if islands[i][j] in islands[k]:\n",
    "#                         things_to_remove.append([i,k])\n",
    "#                         things_to_remove1 += [i,k]\n",
    "                        \n",
    "        return things_to_remove, list(set(things_to_remove1))\n",
    "    \n",
    "    else:\n",
    "        return [],[]"
   ]
  },
  {
   "cell_type": "code",
   "execution_count": 206,
   "id": "defensive-flight",
   "metadata": {},
   "outputs": [],
   "source": [
    "while costs:\n",
    "    \n",
    "    tmp = costs.popleft()\n",
    "    \n",
    "    if tmp[:2] in islands:\n",
    "        continue\n",
    "        \n",
    "    else:\n",
    "        islands.append(tmp[:2])\n",
    "        cnt += tmp[2]\n",
    "\n",
    "        result, result1 = check(islands)\n",
    "\n",
    "        if len(result) > 0 and len(result1):\n",
    "            things_to_remove = []\n",
    "            k=[]\n",
    "            for i in result1:\n",
    "                things_to_remove.append(islands[i])\n",
    "                k += islands[i]\n",
    "\n",
    "            for i in things_to_remove:\n",
    "                islands.remove(i)\n",
    "            islands.appendleft(list(set(k)))\n",
    "\n",
    "            if len(islands[0]) >= n:\n",
    "                answer = cnt\n",
    "                break\n"
   ]
  },
  {
   "cell_type": "code",
   "execution_count": 207,
   "id": "imposed-trade",
   "metadata": {},
   "outputs": [
    {
     "data": {
      "text/plain": [
       "deque([[0, 1, 2, 3, 4]])"
      ]
     },
     "execution_count": 207,
     "metadata": {},
     "output_type": "execute_result"
    }
   ],
   "source": [
    "islands"
   ]
  },
  {
   "cell_type": "code",
   "execution_count": 208,
   "id": "inappropriate-currency",
   "metadata": {},
   "outputs": [
    {
     "data": {
      "text/plain": [
       "[4, 0, 7]"
      ]
     },
     "execution_count": 208,
     "metadata": {},
     "output_type": "execute_result"
    }
   ],
   "source": [
    "tmp"
   ]
  },
  {
   "cell_type": "code",
   "execution_count": 209,
   "id": "established-station",
   "metadata": {},
   "outputs": [
    {
     "data": {
      "text/plain": [
       "[0, 1, 2]"
      ]
     },
     "execution_count": 209,
     "metadata": {},
     "output_type": "execute_result"
    }
   ],
   "source": [
    "result1"
   ]
  },
  {
   "cell_type": "code",
   "execution_count": 210,
   "id": "classified-thousand",
   "metadata": {},
   "outputs": [
    {
     "data": {
      "text/plain": [
       "[0, 1, 2, 3, 2, 4, 4, 0]"
      ]
     },
     "execution_count": 210,
     "metadata": {},
     "output_type": "execute_result"
    }
   ],
   "source": [
    "k"
   ]
  },
  {
   "cell_type": "code",
   "execution_count": 211,
   "id": "latin-remove",
   "metadata": {},
   "outputs": [
    {
     "data": {
      "text/plain": [
       "30"
      ]
     },
     "execution_count": 211,
     "metadata": {},
     "output_type": "execute_result"
    }
   ],
   "source": [
    "cnt"
   ]
  },
  {
   "cell_type": "code",
   "execution_count": null,
   "id": "integral-munich",
   "metadata": {},
   "outputs": [],
   "source": []
  },
  {
   "cell_type": "code",
   "execution_count": null,
   "id": "secondary-vienna",
   "metadata": {},
   "outputs": [],
   "source": []
  },
  {
   "cell_type": "code",
   "execution_count": null,
   "id": "hazardous-memorabilia",
   "metadata": {},
   "outputs": [],
   "source": []
  },
  {
   "cell_type": "code",
   "execution_count": null,
   "id": "hispanic-economics",
   "metadata": {},
   "outputs": [],
   "source": []
  },
  {
   "cell_type": "code",
   "execution_count": null,
   "id": "earlier-ghana",
   "metadata": {},
   "outputs": [],
   "source": []
  },
  {
   "cell_type": "code",
   "execution_count": 102,
   "id": "ignored-mainland",
   "metadata": {},
   "outputs": [],
   "source": [
    "things_to_remove = []\n",
    "k=[]\n",
    "for i in result1:\n",
    "    things_to_remove.append(islands[i])\n",
    "    k += islands[i]\n",
    "    \n",
    "for i in things_to_remove:\n",
    "    islands.remove(i)\n",
    "islands.appendleft(list(set(k)))\n",
    "\n",
    "if islands[0] >= n:\n",
    "    break"
   ]
  },
  {
   "cell_type": "code",
   "execution_count": null,
   "id": "perfect-intersection",
   "metadata": {},
   "outputs": [],
   "source": []
  },
  {
   "cell_type": "code",
   "execution_count": null,
   "id": "exempt-auckland",
   "metadata": {},
   "outputs": [],
   "source": []
  },
  {
   "cell_type": "code",
   "execution_count": null,
   "id": "sunrise-magic",
   "metadata": {},
   "outputs": [],
   "source": []
  },
  {
   "cell_type": "code",
   "execution_count": null,
   "id": "identical-crime",
   "metadata": {},
   "outputs": [],
   "source": []
  },
  {
   "cell_type": "code",
   "execution_count": null,
   "id": "reserved-stylus",
   "metadata": {},
   "outputs": [],
   "source": []
  },
  {
   "cell_type": "code",
   "execution_count": null,
   "id": "unexpected-nevada",
   "metadata": {},
   "outputs": [],
   "source": []
  },
  {
   "cell_type": "code",
   "execution_count": null,
   "id": "friendly-source",
   "metadata": {},
   "outputs": [],
   "source": []
  },
  {
   "cell_type": "code",
   "execution_count": null,
   "id": "provincial-celtic",
   "metadata": {},
   "outputs": [],
   "source": []
  },
  {
   "cell_type": "code",
   "execution_count": null,
   "id": "cultural-handle",
   "metadata": {},
   "outputs": [],
   "source": [
    "while costs:\n",
    "    tmp = costs.popleft()\n",
    "    x,y = tmp[:2]\n",
    "    cost = tmp[2]\n",
    "\n",
    "    if x not in islands[0] and y not in islands[0]:\n",
    "        islands.append(tmp[:2])\n",
    "        cnt += cost\n",
    "\n",
    "    elif x in islands[0] and y not in islands[0]:\n",
    "        islands[0].append(y)\n",
    "        cnt += cost\n",
    "\n",
    "    elif x not in islands[0] and y in islands[0]:\n",
    "        islands[0].append(x)\n",
    "        cnt += cost\n",
    "\n",
    "    if len(islands) > 1:\n",
    "        things_to_remove = []\n",
    "        for i in range(1,len(islands)):\n",
    "            for j in range(2):\n",
    "                if islands[i][j] in islands[0]:\n",
    "                    things_to_remove.append(islands[i])\n",
    "                    break\n",
    "\n",
    "        for x in things_to_remove:\n",
    "            islands.remove(x) \n",
    "\n",
    "    if len(islands[0]) == n:\n",
    "        break\n"
   ]
  },
  {
   "cell_type": "code",
   "execution_count": null,
   "id": "outdoor-florida",
   "metadata": {},
   "outputs": [],
   "source": []
  },
  {
   "cell_type": "code",
   "execution_count": null,
   "id": "quiet-camcorder",
   "metadata": {},
   "outputs": [],
   "source": []
  },
  {
   "cell_type": "code",
   "execution_count": 4,
   "id": "persistent-battery",
   "metadata": {},
   "outputs": [
    {
     "data": {
      "text/plain": [
       "[[0, 1]]"
      ]
     },
     "execution_count": 4,
     "metadata": {},
     "output_type": "execute_result"
    }
   ],
   "source": [
    "islands"
   ]
  },
  {
   "cell_type": "code",
   "execution_count": null,
   "id": "aggregate-credit",
   "metadata": {},
   "outputs": [],
   "source": []
  },
  {
   "cell_type": "code",
   "execution_count": null,
   "id": "foreign-spider",
   "metadata": {},
   "outputs": [],
   "source": []
  },
  {
   "cell_type": "code",
   "execution_count": null,
   "id": "extra-plastic",
   "metadata": {},
   "outputs": [],
   "source": []
  },
  {
   "cell_type": "code",
   "execution_count": null,
   "id": "pressed-genius",
   "metadata": {},
   "outputs": [],
   "source": []
  },
  {
   "cell_type": "code",
   "execution_count": null,
   "id": "sudden-remains",
   "metadata": {},
   "outputs": [],
   "source": [
    "import numpy as np\n",
    "\n",
    "def solution(n, costs):\n",
    "\n",
    "    costs = sorted(costs, key = lambda x: x[2])\n",
    "\n",
    "    from collections import deque\n",
    "    costs = deque(costs)\n",
    "\n",
    "    islands = [[]]\n",
    "    \n",
    "\n",
    "    tmp = costs.popleft()\n",
    "    islands[0] += tmp[:2]\n",
    "    cnt = tmp[2]\n",
    "    \n",
    "    while costs:\n",
    "        tmp = costs.popleft()\n",
    "        x,y = tmp[:2]\n",
    "        cost = tmp[2]\n",
    "\n",
    "        if x not in islands[0] and y not in islands[0]:\n",
    "            islands.append(tmp[:2])\n",
    "            cnt += cost\n",
    "\n",
    "        elif x in islands[0] and y not in islands[0]:\n",
    "            islands[0].append(y)\n",
    "            cnt += cost\n",
    "\n",
    "        elif x not in islands[0] and y in islands[0]:\n",
    "            islands[0].append(x)\n",
    "            cnt += cost\n",
    "\n",
    "        if len(islands) > 1:\n",
    "            things_to_remove = []\n",
    "            for i in range(1,len(islands)):\n",
    "                for j in range(2):\n",
    "                    if islands[i][j] in islands[0]:\n",
    "                        things_to_remove.append(islands[i])\n",
    "                        break\n",
    "\n",
    "            for x in things_to_remove:\n",
    "                islands.remove(x) \n",
    "\n",
    "        if len(islands[0]) == n:\n",
    "            break\n",
    "            \n",
    "    answer = cnt\n",
    "    return answer"
   ]
  }
 ],
 "metadata": {
  "kernelspec": {
   "display_name": "Python 3",
   "language": "python",
   "name": "python3"
  },
  "language_info": {
   "codemirror_mode": {
    "name": "ipython",
    "version": 3
   },
   "file_extension": ".py",
   "mimetype": "text/x-python",
   "name": "python",
   "nbconvert_exporter": "python",
   "pygments_lexer": "ipython3",
   "version": "3.8.6"
  }
 },
 "nbformat": 4,
 "nbformat_minor": 5
}
