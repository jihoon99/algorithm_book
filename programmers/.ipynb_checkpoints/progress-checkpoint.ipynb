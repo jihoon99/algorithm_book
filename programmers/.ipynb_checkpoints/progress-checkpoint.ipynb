{
 "cells": [
  {
   "cell_type": "code",
   "execution_count": 3,
   "id": "younger-runner",
   "metadata": {},
   "outputs": [],
   "source": [
    "progress = [93, 30, 55]\t\n",
    "speeds = [1, 30, 5]\n",
    "retu = [2, 1]"
   ]
  },
  {
   "cell_type": "code",
   "execution_count": 5,
   "id": "nominated-tiffany",
   "metadata": {},
   "outputs": [
    {
     "name": "stdout",
     "output_type": "stream",
     "text": [
      "x:  7 y:  1\n",
      "x: 70 y: 30\n",
      "x: 45 y:  5\n"
     ]
    }
   ],
   "source": [
    "neg = [100 - x for x in progress]\n",
    "set_ = list(zip(neg, speeds))\n",
    "\n",
    "ls = []\n",
    "for x,y in set_:\n",
    "#     print(f'x:{x:3} y:{y:3}')\n",
    "    \n",
    "    # 몫과 나머지를 구함\n",
    "    mok, remain = divmod(x,y)\n",
    "    if remain != 0:\n",
    "        mok += 1 # 나머지가 있을 경우 몫에다 1을 더해줌(올림)\n",
    "        \n",
    "    ls.append(mok)\n",
    "    \n",
    "ls.append(101) # 맨뒤에 더미를 하나 넣어줘야, 계산상의 편의성이 있음."
   ]
  },
  {
   "cell_type": "code",
   "execution_count": 7,
   "id": "delayed-maintenance",
   "metadata": {},
   "outputs": [
    {
     "data": {
      "text/plain": [
       "[7, 3, 9, 101]"
      ]
     },
     "execution_count": 7,
     "metadata": {},
     "output_type": "execute_result"
    }
   ],
   "source": [
    "ls"
   ]
  },
  {
   "cell_type": "code",
   "execution_count": 6,
   "id": "antique-michigan",
   "metadata": {},
   "outputs": [
    {
     "name": "stdout",
     "output_type": "stream",
     "text": [
      "1\n",
      "2\n",
      "3\n"
     ]
    }
   ],
   "source": [
    "result = []\n",
    "left = 0\n",
    "right = 1\n",
    "\n",
    "for i in range(len(ls)-1): # right가 있기에 1을 빼줘야함\n",
    "    # ls에 화살표 두개가 움직임.\n",
    "\n",
    "    if ls[left] < ls[right]:     # 오른쪽이 왼쪽보다 크면 업데이트를 해줌.\n",
    "        result.append(right - left)  # 사이에 있는 값들을 구해줌.(답에다가 append해줌)\n",
    "        left = right\n",
    "        right += 1\n",
    "    else:                       # 왼쪽이 더 크다면 그냥 진행\n",
    "        right += 1\n",
    "        "
   ]
  },
  {
   "cell_type": "code",
   "execution_count": null,
   "id": "juvenile-youth",
   "metadata": {},
   "outputs": [],
   "source": []
  }
 ],
 "metadata": {
  "kernelspec": {
   "display_name": "Python 3",
   "language": "python",
   "name": "python3"
  },
  "language_info": {
   "codemirror_mode": {
    "name": "ipython",
    "version": 3
   },
   "file_extension": ".py",
   "mimetype": "text/x-python",
   "name": "python",
   "nbconvert_exporter": "python",
   "pygments_lexer": "ipython3",
   "version": "3.8.6"
  }
 },
 "nbformat": 4,
 "nbformat_minor": 5
}
