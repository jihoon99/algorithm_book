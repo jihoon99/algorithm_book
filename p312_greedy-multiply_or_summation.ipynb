{
 "cells": [
  {
   "cell_type": "code",
   "execution_count": 1,
   "id": "employed-dinner",
   "metadata": {},
   "outputs": [],
   "source": [
    "# from left to right, by using * or + to make maximum number"
   ]
  },
  {
   "cell_type": "code",
   "execution_count": 7,
   "id": "dental-variety",
   "metadata": {},
   "outputs": [],
   "source": [
    "string = '02984'   # 576\n",
    "string = '567'   # 210"
   ]
  },
  {
   "cell_type": "code",
   "execution_count": 8,
   "id": "straight-marking",
   "metadata": {},
   "outputs": [],
   "source": [
    "result = 0\n",
    "\n",
    "while len(string) > 0:\n",
    "    tmp = int(string[0])\n",
    "    string = string[1:]\n",
    "    if tmp in [0,1] or result in [0,1]:\n",
    "        result += tmp\n",
    "        \n",
    "    else:\n",
    "        result *= tmp\n",
    "        \n",
    "    "
   ]
  },
  {
   "cell_type": "code",
   "execution_count": null,
   "id": "thick-conservation",
   "metadata": {},
   "outputs": [],
   "source": []
  }
 ],
 "metadata": {
  "kernelspec": {
   "display_name": "Python 3",
   "language": "python",
   "name": "python3"
  },
  "language_info": {
   "codemirror_mode": {
    "name": "ipython",
    "version": 3
   },
   "file_extension": ".py",
   "mimetype": "text/x-python",
   "name": "python",
   "nbconvert_exporter": "python",
   "pygments_lexer": "ipython3",
   "version": "3.8.6"
  }
 },
 "nbformat": 4,
 "nbformat_minor": 5
}
