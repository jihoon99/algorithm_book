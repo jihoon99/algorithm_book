{
 "cells": [
  {
   "cell_type": "code",
   "execution_count": 2,
   "id": "binding-appendix",
   "metadata": {},
   "outputs": [],
   "source": [
    "maze = [\n",
    "    [1,0,1,0,1,0],\n",
    "    [1,1,1,1,1,1],\n",
    "    [0,0,0,0,0,1],\n",
    "    [1,1,1,1,1,1],\n",
    "    [1,1,1,1,1,1]\n",
    "]\n",
    "# zero : where monster is.\n",
    "# 1 : safe load\n",
    "# return shortest path"
   ]
  },
  {
   "cell_type": "code",
   "execution_count": 3,
   "id": "flying-intermediate",
   "metadata": {},
   "outputs": [],
   "source": [
    "N = 5\n",
    "M = 6"
   ]
  },
  {
   "cell_type": "code",
   "execution_count": 6,
   "id": "advisory-pastor",
   "metadata": {},
   "outputs": [],
   "source": [
    "starting_point = [1,1]\n",
    "starting_point[0],starting_point[1] = starting_point[0]-1, starting_point[1]-1"
   ]
  },
  {
   "cell_type": "code",
   "execution_count": null,
   "id": "placed-cartridge",
   "metadata": {},
   "outputs": [],
   "source": [
    "dx = [-1, 0, 1, 0] # left, up, right, down\n",
    "dy = [0, -1, 0, 1]\n",
    "\n",
    "\n",
    "from collections import deque\n",
    "dq = deque([])\n",
    "dq.append(staring_point)\n",
    "\n",
    "while dq:\n",
    "    ox,oy = dq.popleft()\n",
    "    \n",
    "    for i in range(4):\n",
    "        nx = ox + dx[i]\n",
    "        ny = oy + dy[i]\n",
    "        \n",
    "        if nx < 0 or ny < 0 or nx > M or ny > N:\n",
    "            continue\n",
    "        \n",
    "    "
   ]
  },
  {
   "cell_type": "code",
   "execution_count": null,
   "id": "outdoor-reconstruction",
   "metadata": {},
   "outputs": [],
   "source": []
  },
  {
   "cell_type": "code",
   "execution_count": null,
   "id": "italian-papua",
   "metadata": {},
   "outputs": [],
   "source": []
  },
  {
   "cell_type": "code",
   "execution_count": null,
   "id": "sacred-sewing",
   "metadata": {},
   "outputs": [],
   "source": []
  },
  {
   "cell_type": "code",
   "execution_count": null,
   "id": "touched-arrangement",
   "metadata": {},
   "outputs": [],
   "source": []
  }
 ],
 "metadata": {
  "kernelspec": {
   "display_name": "Python 3",
   "language": "python",
   "name": "python3"
  },
  "language_info": {
   "codemirror_mode": {
    "name": "ipython",
    "version": 3
   },
   "file_extension": ".py",
   "mimetype": "text/x-python",
   "name": "python",
   "nbconvert_exporter": "python",
   "pygments_lexer": "ipython3",
   "version": "3.8.6"
  }
 },
 "nbformat": 4,
 "nbformat_minor": 5
}
