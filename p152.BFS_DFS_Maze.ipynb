{
 "cells": [
  {
   "cell_type": "code",
   "execution_count": 2,
   "id": "powered-times",
   "metadata": {},
   "outputs": [],
   "source": [
    "maze = [\n",
    "    [1,0,1,0,1,0],\n",
    "    [1,1,1,1,1,1],\n",
    "    [0,0,0,0,0,1],\n",
    "    [1,1,1,1,1,1],\n",
    "    [1,1,1,1,1,1]\n",
    "]\n",
    "# zero : where monster is.\n",
    "# 1 : safe load\n",
    "# return shortest path"
   ]
  },
  {
   "cell_type": "code",
   "execution_count": 3,
   "id": "right-victory",
   "metadata": {},
   "outputs": [],
   "source": [
    "N = 5\n",
    "M = 6"
   ]
  },
  {
   "cell_type": "code",
   "execution_count": 6,
   "id": "younger-allowance",
   "metadata": {},
   "outputs": [],
   "source": [
    "starting_point = [1,1]\n",
    "starting_point[0],starting_point[1] = starting_point[0]-1, starting_point[1]-1"
   ]
  },
  {
   "cell_type": "code",
   "execution_count": null,
   "id": "dress-ecuador",
   "metadata": {},
   "outputs": [],
   "source": [
    "dx = [-1, 0, 1, 0] # left, up, right, down\n",
    "dy = [0, -1, 0, 1]\n",
    "\n",
    "\n",
    "from collections import deque\n",
    "dq = deque([])\n",
    "\n",
    "def BFS(x,y):\n",
    "    global dq\n",
    "    global maze\n",
    "    \n",
    "    dq.append((x,y))\n",
    "    ox, oy = dq.popleft()\n",
    "    \n",
    "    "
   ]
  },
  {
   "cell_type": "code",
   "execution_count": null,
   "id": "welsh-characterization",
   "metadata": {},
   "outputs": [],
   "source": []
  },
  {
   "cell_type": "code",
   "execution_count": null,
   "id": "pressed-identifier",
   "metadata": {},
   "outputs": [],
   "source": []
  },
  {
   "cell_type": "code",
   "execution_count": null,
   "id": "worldwide-cylinder",
   "metadata": {},
   "outputs": [],
   "source": []
  },
  {
   "cell_type": "code",
   "execution_count": null,
   "id": "southwest-pharmaceutical",
   "metadata": {},
   "outputs": [],
   "source": []
  }
 ],
 "metadata": {
  "kernelspec": {
   "display_name": "Python 3",
   "language": "python",
   "name": "python3"
  },
  "language_info": {
   "codemirror_mode": {
    "name": "ipython",
    "version": 3
   },
   "file_extension": ".py",
   "mimetype": "text/x-python",
   "name": "python",
   "nbconvert_exporter": "python",
   "pygments_lexer": "ipython3",
   "version": "3.8.6"
  }
 },
 "nbformat": 4,
 "nbformat_minor": 5
}
