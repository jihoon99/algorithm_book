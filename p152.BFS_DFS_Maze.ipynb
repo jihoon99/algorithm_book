{
 "cells": [
  {
   "cell_type": "code",
   "execution_count": 1,
   "id": "joined-christian",
   "metadata": {},
   "outputs": [],
   "source": [
    "maze = [\n",
    "    [1,0,1,0,1,0],\n",
    "    [1,1,1,1,1,1],\n",
    "    [0,0,0,0,0,1],\n",
    "    [1,1,1,1,1,1],\n",
    "    [1,1,1,1,1,1]\n",
    "]\n",
    "# zero : where monster is.\n",
    "# 1 : safe load\n",
    "# return shortest path"
   ]
  },
  {
   "cell_type": "code",
   "execution_count": 2,
   "id": "intensive-syndrome",
   "metadata": {},
   "outputs": [],
   "source": [
    "N = 5\n",
    "M = 6"
   ]
  },
  {
   "cell_type": "code",
   "execution_count": 3,
   "id": "ultimate-traveler",
   "metadata": {},
   "outputs": [],
   "source": [
    "starting_point = [1,1]\n",
    "starting_point[0],starting_point[1] = starting_point[0]-1, starting_point[1]-1"
   ]
  },
  {
   "cell_type": "code",
   "execution_count": 4,
   "id": "eight-candle",
   "metadata": {},
   "outputs": [
    {
     "ename": "NameError",
     "evalue": "name 'staring_point' is not defined",
     "output_type": "error",
     "traceback": [
      "\u001b[0;31m---------------------------------------------------------------------------\u001b[0m",
      "\u001b[0;31mNameError\u001b[0m                                 Traceback (most recent call last)",
      "\u001b[0;32m<ipython-input-4-2aca565a5941>\u001b[0m in \u001b[0;36m<module>\u001b[0;34m\u001b[0m\n\u001b[1;32m      5\u001b[0m \u001b[0;32mfrom\u001b[0m \u001b[0mcollections\u001b[0m \u001b[0;32mimport\u001b[0m \u001b[0mdeque\u001b[0m\u001b[0;34m\u001b[0m\u001b[0;34m\u001b[0m\u001b[0m\n\u001b[1;32m      6\u001b[0m \u001b[0mdq\u001b[0m \u001b[0;34m=\u001b[0m \u001b[0mdeque\u001b[0m\u001b[0;34m(\u001b[0m\u001b[0;34m[\u001b[0m\u001b[0;34m]\u001b[0m\u001b[0;34m)\u001b[0m\u001b[0;34m\u001b[0m\u001b[0;34m\u001b[0m\u001b[0m\n\u001b[0;32m----> 7\u001b[0;31m \u001b[0mdq\u001b[0m\u001b[0;34m.\u001b[0m\u001b[0mappend\u001b[0m\u001b[0;34m(\u001b[0m\u001b[0mstaring_point\u001b[0m\u001b[0;34m)\u001b[0m\u001b[0;34m\u001b[0m\u001b[0;34m\u001b[0m\u001b[0m\n\u001b[0m\u001b[1;32m      8\u001b[0m \u001b[0;34m\u001b[0m\u001b[0m\n\u001b[1;32m      9\u001b[0m \u001b[0;32mwhile\u001b[0m \u001b[0mdq\u001b[0m\u001b[0;34m:\u001b[0m\u001b[0;34m\u001b[0m\u001b[0;34m\u001b[0m\u001b[0m\n",
      "\u001b[0;31mNameError\u001b[0m: name 'staring_point' is not defined"
     ]
    }
   ],
   "source": [
    "dx = [-1, 0, 1, 0] # left, up, right, down\n",
    "dy = [0, -1, 0, 1]\n",
    "\n",
    "\n",
    "from collections import deque\n",
    "dq = deque([])\n",
    "dq.append(staring_point)\n",
    "\n",
    "while dq:\n",
    "    ox,oy = dq.popleft()\n",
    "    \n",
    "    for i in range(4):\n",
    "        nx = ox + dx[i]\n",
    "        ny = oy + dy[i]\n",
    "        \n",
    "        if nx < 0 or ny < 0 or nx > M or ny > N:\n",
    "            continue\n",
    "        \n",
    "    "
   ]
  },
  {
   "cell_type": "code",
   "execution_count": null,
   "id": "inclusive-satin",
   "metadata": {},
   "outputs": [],
   "source": []
  },
  {
   "cell_type": "code",
   "execution_count": null,
   "id": "rising-rogers",
   "metadata": {},
   "outputs": [],
   "source": []
  },
  {
   "cell_type": "code",
   "execution_count": null,
   "id": "cosmetic-administrator",
   "metadata": {},
   "outputs": [],
   "source": []
  },
  {
   "cell_type": "code",
   "execution_count": null,
   "id": "basic-waters",
   "metadata": {},
   "outputs": [],
   "source": []
  }
 ],
 "metadata": {
  "kernelspec": {
   "display_name": "Python 3",
   "language": "python",
   "name": "python3"
  },
  "language_info": {
   "codemirror_mode": {
    "name": "ipython",
    "version": 3
   },
   "file_extension": ".py",
   "mimetype": "text/x-python",
   "name": "python",
   "nbconvert_exporter": "python",
   "pygments_lexer": "ipython3",
   "version": "3.8.6"
  }
 },
 "nbformat": 4,
 "nbformat_minor": 5
}
