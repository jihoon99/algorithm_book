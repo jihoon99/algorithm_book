{
 "cells": [
  {
   "cell_type": "code",
   "execution_count": 4,
   "id": "worst-pakistan",
   "metadata": {},
   "outputs": [],
   "source": [
    "balls = [1,3,2,3,2]         # 8\n",
    "balls = [1,5,4,3,2,4,5,2]   #. 25"
   ]
  },
  {
   "cell_type": "code",
   "execution_count": 5,
   "id": "sticky-casting",
   "metadata": {},
   "outputs": [],
   "source": [
    "cnt = 0\n",
    "while len(balls) > 0:\n",
    "    picked_ball = balls[0]\n",
    "    balls = balls[1:]\n",
    "    \n",
    "    for i in balls:\n",
    "        if i != picked_ball:\n",
    "            cnt += 1\n",
    "        \n",
    "    \n",
    "    "
   ]
  }
 ],
 "metadata": {
  "kernelspec": {
   "display_name": "Python 3",
   "language": "python",
   "name": "python3"
  },
  "language_info": {
   "codemirror_mode": {
    "name": "ipython",
    "version": 3
   },
   "file_extension": ".py",
   "mimetype": "text/x-python",
   "name": "python",
   "nbconvert_exporter": "python",
   "pygments_lexer": "ipython3",
   "version": "3.8.6"
  }
 },
 "nbformat": 4,
 "nbformat_minor": 5
}
