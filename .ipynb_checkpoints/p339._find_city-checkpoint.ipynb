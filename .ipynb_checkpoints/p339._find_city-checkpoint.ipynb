{
 "cells": [
  {
   "cell_type": "code",
   "execution_count": 22,
   "id": "sensitive-terrace",
   "metadata": {},
   "outputs": [],
   "source": [
    "# there are N city and M one way roads.\n",
    "# every road's length is 1\n",
    "# printout evry cities that have 'k' length from specific city X\n",
    "# for ex\n",
    "#   1 ------> 2\n",
    "#   |       / |\n",
    "#   |      /  |\n",
    "#   |    /    |\n",
    "#   |  /      |\n",
    "#   | <       |\n",
    "#   >         >\n",
    "#   3         4\n",
    "# city : 1, length : 2\n",
    "# return : 4\n",
    "#n,m,k,x = 도시의 개수, 도로의 개수, 거리 정보, 출발 도시 번호\n",
    "num_of_cities = 4 # n\n",
    "num_of_roads = 4  # m\n",
    "length = 2        # k\n",
    "start_city = 1    # x\n",
    "\n",
    "roads = [         # graph\n",
    "    [1,2],\n",
    "    [1,3],\n",
    "    [2,3],\n",
    "    [2,4]\n",
    "]"
   ]
  },
  {
   "cell_type": "code",
   "execution_count": 23,
   "id": "enormous-commerce",
   "metadata": {},
   "outputs": [],
   "source": [
    "from collections import deque"
   ]
  },
  {
   "cell_type": "code",
   "execution_count": null,
   "id": "theoretical-pathology",
   "metadata": {},
   "outputs": [],
   "source": [
    "que = deque()\n",
    "que.append((start_city,0))\n",
    "\n",
    "\n",
    "while que:\n",
    "    start_point, cnt = que.popleft()\n",
    "    if cnt == length:\n",
    "        \n",
    "    for start,end in roads:\n",
    "        if start_point == start:\n",
    "            que.append(end, cnt+1)\n",
    "\n",
    "        \n",
    "    "
   ]
  },
  {
   "cell_type": "code",
   "execution_count": null,
   "id": "responsible-upset",
   "metadata": {},
   "outputs": [],
   "source": []
  },
  {
   "cell_type": "code",
   "execution_count": 26,
   "id": "armed-friendship",
   "metadata": {},
   "outputs": [],
   "source": [
    "graph = [[] for _ in range(num_of_cities+1)]\n",
    "\n",
    "\n",
    "for x, y in roads:\n",
    "    graph[x].append(y)"
   ]
  },
  {
   "cell_type": "code",
   "execution_count": 27,
   "id": "olympic-tutorial",
   "metadata": {},
   "outputs": [
    {
     "data": {
      "text/plain": [
       "[[], [2, 3], [3, 4], [], []]"
      ]
     },
     "execution_count": 27,
     "metadata": {},
     "output_type": "execute_result"
    }
   ],
   "source": [
    "graph"
   ]
  },
  {
   "cell_type": "code",
   "execution_count": 13,
   "id": "searching-index",
   "metadata": {},
   "outputs": [],
   "source": [
    "# 모든 도시에 대한 최단 거리 최\n",
    "distance = [-1] * (num_of_cities + 1)\n",
    "distance[start_city] = 0 # 출발 도시까지의 거리는 0으로 설정"
   ]
  },
  {
   "cell_type": "code",
   "execution_count": 14,
   "id": "fancy-palace",
   "metadata": {},
   "outputs": [
    {
     "data": {
      "text/plain": [
       "[-1, 0, -1, -1, -1]"
      ]
     },
     "execution_count": 14,
     "metadata": {},
     "output_type": "execute_result"
    }
   ],
   "source": [
    "distance"
   ]
  },
  {
   "cell_type": "code",
   "execution_count": null,
   "id": "sonic-language",
   "metadata": {},
   "outputs": [],
   "source": [
    "q = deque([start_city])\n",
    "while q:\n",
    "    now = q.popleft()\n",
    "    for next_node in roads[now]:\n",
    "        "
   ]
  },
  {
   "cell_type": "code",
   "execution_count": 17,
   "id": "skilled-schema",
   "metadata": {},
   "outputs": [
    {
     "data": {
      "text/plain": [
       "[1, 3]"
      ]
     },
     "execution_count": 17,
     "metadata": {},
     "output_type": "execute_result"
    }
   ],
   "source": [
    "roads[1]"
   ]
  },
  {
   "cell_type": "code",
   "execution_count": 28,
   "id": "sufficient-fireplace",
   "metadata": {},
   "outputs": [
    {
     "name": "stdout",
     "output_type": "stream",
     "text": [
      "Python 3.8.6\n"
     ]
    }
   ],
   "source": [
    "!python -V"
   ]
  },
  {
   "cell_type": "code",
   "execution_count": null,
   "id": "desirable-screening",
   "metadata": {},
   "outputs": [],
   "source": []
  }
 ],
 "metadata": {
  "kernelspec": {
   "display_name": "Python 3",
   "language": "python",
   "name": "python3"
  },
  "language_info": {
   "codemirror_mode": {
    "name": "ipython",
    "version": 3
   },
   "file_extension": ".py",
   "mimetype": "text/x-python",
   "name": "python",
   "nbconvert_exporter": "python",
   "pygments_lexer": "ipython3",
   "version": "3.8.6"
  }
 },
 "nbformat": 4,
 "nbformat_minor": 5
}
