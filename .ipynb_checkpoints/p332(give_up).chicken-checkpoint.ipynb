{
 "cells": [
  {
   "cell_type": "code",
   "execution_count": 267,
   "id": "personalized-talent",
   "metadata": {},
   "outputs": [],
   "source": [
    "# 0 empty\n",
    "# 1 house\n",
    "# 2 chicken\n",
    "\n",
    "# number of chicken\n",
    "N = 5\n",
    "# last chicken\n",
    "M = 2\n",
    "\n",
    "array = [\n",
    "    [0,2,0,1,0],\n",
    "    [1,0,1,0,0],\n",
    "    [2,0,0,1,1],\n",
    "    [2,2,0,1,2]\n",
    "]"
   ]
  },
  {
   "cell_type": "code",
   "execution_count": 268,
   "id": "endless-garbage",
   "metadata": {},
   "outputs": [],
   "source": [
    "N = 5\n",
    "M = 1\n",
    "array = [\n",
    "    [1,2,0,0,0],\n",
    "    [1,2,0,0,0],\n",
    "\n",
    "    [1,2,0,0,0],\n",
    "\n",
    "    [1,2,0,0,0],\n",
    "\n",
    "    [1,2,0,0,0]\n",
    "\n",
    "\n",
    "]"
   ]
  },
  {
   "cell_type": "code",
   "execution_count": null,
   "id": "diagnostic-affairs",
   "metadata": {},
   "outputs": [],
   "source": []
  },
  {
   "cell_type": "code",
   "execution_count": 269,
   "id": "harmful-sucking",
   "metadata": {},
   "outputs": [],
   "source": [
    "import numpy as np"
   ]
  },
  {
   "cell_type": "code",
   "execution_count": 270,
   "id": "prime-stone",
   "metadata": {},
   "outputs": [],
   "source": [
    "hight = len(array)\n",
    "vertical = len(array[0])\n",
    "\n",
    "def get_house_chicken(array1, hight, vertical):\n",
    "    array = array1.copy()\n",
    "    house_loc = []\n",
    "    chicken_loc = []\n",
    "\n",
    "    for i in range(hight):\n",
    "        for j in range(vertical):\n",
    "            if array[i][j] == 1:\n",
    "                house_loc.append([i,j])\n",
    "            elif array[i][j] == 2:\n",
    "                chicken_loc.append([i,j])\n",
    "                \n",
    "    return house_loc, chicken_loc\n",
    "\n",
    "\n",
    "def get_distance(chicken_loc, house_loc):\n",
    "    distance = []\n",
    "    distance_length = []\n",
    "    for i,j in house_loc:\n",
    "        chicken_tmp = dict()\n",
    "        for m,n in chicken_loc:\n",
    "            chicken_tmp[abs(i-m) + abs(j-n)] = [str(m)+\"/\"+str(n)]\n",
    "        distance += chicken_tmp[min(chicken_tmp)]\n",
    "        distance_length += [min(chicken_tmp)]\n",
    "        \n",
    "    return distance, distance_length"
   ]
  },
  {
   "cell_type": "code",
   "execution_count": 271,
   "id": "organic-premiere",
   "metadata": {},
   "outputs": [],
   "source": [
    "house_loc,chicken_loc = get_house_chicken(array, hight, vertical)\n",
    "distance, distance_length = get_distance(chicken_loc, house_loc)\n",
    "\n",
    "distance_dict = dict()\n",
    "for i in distance:\n",
    "    try:\n",
    "        distance_dict[i] += 1\n",
    "    except:\n",
    "        distance_dict[i] = 1"
   ]
  },
  {
   "cell_type": "code",
   "execution_count": 272,
   "id": "virtual-trustee",
   "metadata": {},
   "outputs": [],
   "source": [
    "\n",
    "distance, distance_length = get_distance(chicken_loc, house_loc)\n",
    "\n",
    "tmp_distance = []\n",
    "for x in distance:\n",
    "    y,z = x.split(\"/\")\n",
    "    tmp_distance.append([int(y),int(z)])\n",
    "    \n",
    "delete_chicken = [x for x in chicken_loc if x not in tmp_distance]\n",
    "\n",
    "delete_dic = dict()\n",
    "for x in distance:\n",
    "    try:\n",
    "        delete_dic[x] += 1\n",
    "    except:\n",
    "        delete_dic[x] = 1"
   ]
  },
  {
   "cell_type": "code",
   "execution_count": 273,
   "id": "exact-monitoring",
   "metadata": {},
   "outputs": [
    {
     "name": "stdout",
     "output_type": "stream",
     "text": [
      "[[0, 1], [1, 1], [2, 1], [3, 1], [4, 1]] [0, 1] [1, 1, 1, 1, 1]\n",
      "[[1, 1], [2, 1], [3, 1], [4, 1]] [2, 1] [2, 1, 1, 1, 1]\n",
      "[[1, 1], [3, 1], [4, 1]] [4, 1] [2, 1, 2, 1, 1]\n",
      "[[1, 1], [3, 1]] [1, 1] [2, 1, 2, 1, 2]\n"
     ]
    }
   ],
   "source": [
    "while len(chicken_loc) > M:\n",
    "    if len(delete_chicken) != 0:\n",
    "        tttmp = delete_chicken.pop(0)\n",
    "        array[tttmp[0]][tttmp[1]] = 0\n",
    "        chicken_loc.remove(tttmp)\n",
    "    else:\n",
    "        \n",
    "        \n",
    "        \n",
    "        distance, distance_length = get_distance(chicken_loc, house_loc)\n",
    "\n",
    "        tmp_distance = []\n",
    "        for x in distance:\n",
    "            y,z = x.split(\"/\")\n",
    "            tmp_distance.append([int(y),int(z)])\n",
    "\n",
    "        delete_chicken = [x for x in chicken_loc if x not in tmp_distance]\n",
    "\n",
    "        delete_dic = dict()\n",
    "        for x in distance:\n",
    "            try:\n",
    "                delete_dic[x] += 1\n",
    "            except:\n",
    "                delete_dic[x] = 1\n",
    "        \n",
    "        tttmp_dict = min(delete_dic.keys(), key=lambda k : delete_dic[k]).split(\"/\")\n",
    "        tttmp_index = [int(tttmp_dict[0]), int(tttmp_dict[1])]\n",
    "        print(chicken_loc, tttmp_index, distance_length)\n",
    "\n",
    "\n",
    "        array[tttmp_index[0]][tttmp_index[1]] = 0\n",
    "        chicken_loc.remove(tttmp_index)"
   ]
  },
  {
   "cell_type": "code",
   "execution_count": null,
   "id": "informational-watts",
   "metadata": {},
   "outputs": [],
   "source": []
  },
  {
   "cell_type": "code",
   "execution_count": null,
   "id": "tight-organ",
   "metadata": {},
   "outputs": [],
   "source": []
  },
  {
   "cell_type": "code",
   "execution_count": null,
   "id": "positive-signal",
   "metadata": {},
   "outputs": [],
   "source": []
  },
  {
   "cell_type": "code",
   "execution_count": null,
   "id": "juvenile-falls",
   "metadata": {},
   "outputs": [],
   "source": []
  },
  {
   "cell_type": "code",
   "execution_count": null,
   "id": "medium-syntax",
   "metadata": {},
   "outputs": [],
   "source": []
  },
  {
   "cell_type": "code",
   "execution_count": 55,
   "id": "statewide-georgia",
   "metadata": {},
   "outputs": [
    {
     "data": {
      "text/plain": [
       "[[0, 1], [2, 0], [3, 0], [3, 1], [3, 4]]"
      ]
     },
     "execution_count": 55,
     "metadata": {},
     "output_type": "execute_result"
    }
   ],
   "source": [
    "chicken_loc"
   ]
  },
  {
   "cell_type": "code",
   "execution_count": 46,
   "id": "impressive-teddy",
   "metadata": {},
   "outputs": [],
   "source": [
    "num_chicken = len(chicken_loc)\n",
    "\n",
    "\n",
    "while num_chicken > M:\n",
    "    \n",
    "    distance = get_distance(chicken_loc, house_loc) # 거리를 구함\n",
    "    index = [idx for idx, x in enumerate(distance) if max(distance) == x] # 거리가 가장 먼 놈을 고름\n",
    "    tmp = chicken_loc[index[0]] # 2\n",
    "    \n",
    "    # remove from array as 0\n",
    "    array[tmp[0]][tmp[1]] = 0\n",
    "    # remove from chicken_loc\n",
    "    chicken_loc.remove(tmp)\n",
    "    num_chicken = len(chicken_loc)"
   ]
  },
  {
   "cell_type": "code",
   "execution_count": 48,
   "id": "cardiovascular-seminar",
   "metadata": {},
   "outputs": [
    {
     "data": {
      "text/plain": [
       "[[0, 0, 0, 1, 0], [1, 0, 1, 0, 0], [0, 0, 0, 1, 1], [0, 2, 0, 1, 2]]"
      ]
     },
     "execution_count": 48,
     "metadata": {},
     "output_type": "execute_result"
    }
   ],
   "source": [
    "array"
   ]
  },
  {
   "cell_type": "code",
   "execution_count": 39,
   "id": "congressional-benchmark",
   "metadata": {},
   "outputs": [],
   "source": [
    "[[0, 0, 0, 1, 0], \n",
    " [1, 0, 1, 0, 0], \n",
    " [0, 0, 0, 1, 1], \n",
    " [0, 2, 0, 1, 2]]"
   ]
  },
  {
   "cell_type": "code",
   "execution_count": null,
   "id": "competitive-assembly",
   "metadata": {},
   "outputs": [],
   "source": []
  }
 ],
 "metadata": {
  "kernelspec": {
   "display_name": "Python 3",
   "language": "python",
   "name": "python3"
  },
  "language_info": {
   "codemirror_mode": {
    "name": "ipython",
    "version": 3
   },
   "file_extension": ".py",
   "mimetype": "text/x-python",
   "name": "python",
   "nbconvert_exporter": "python",
   "pygments_lexer": "ipython3",
   "version": "3.8.6"
  }
 },
 "nbformat": 4,
 "nbformat_minor": 5
}
