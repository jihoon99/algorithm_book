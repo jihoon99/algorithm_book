{
 "cells": [
  {
   "cell_type": "code",
   "execution_count": 1,
   "id": "increased-color",
   "metadata": {},
   "outputs": [],
   "source": [
    "# '+' 'x' 만을 사용\n",
    "# 왼쪽부터 순서대로 계산을 해야함.\n",
    "# 최대값 나오게"
   ]
  },
  {
   "cell_type": "code",
   "execution_count": 2,
   "id": "direct-metallic",
   "metadata": {},
   "outputs": [],
   "source": [
    "sequence = '02984'"
   ]
  },
  {
   "cell_type": "code",
   "execution_count": null,
   "id": "induced-trading",
   "metadata": {},
   "outputs": [],
   "source": []
  },
  {
   "cell_type": "code",
   "execution_count": null,
   "id": "occasional-franklin",
   "metadata": {},
   "outputs": [],
   "source": []
  },
  {
   "cell_type": "code",
   "execution_count": null,
   "id": "foreign-consortium",
   "metadata": {},
   "outputs": [],
   "source": []
  },
  {
   "cell_type": "code",
   "execution_count": null,
   "id": "chubby-egyptian",
   "metadata": {},
   "outputs": [],
   "source": []
  },
  {
   "cell_type": "code",
   "execution_count": null,
   "id": "lined-principal",
   "metadata": {},
   "outputs": [],
   "source": []
  },
  {
   "cell_type": "code",
   "execution_count": 6,
   "id": "technological-audience",
   "metadata": {},
   "outputs": [],
   "source": [
    "tmp = 0\n",
    "for i in range(len(sequence)):\n",
    "    num = int(sequence[i])\n",
    "    if i != 0:\n",
    "        if num != 0 or num != 1:\n",
    "            tmp *= num\n",
    "        else:\n",
    "            tmp += num\n",
    "    else:\n",
    "        tmp += num"
   ]
  },
  {
   "cell_type": "code",
   "execution_count": 7,
   "id": "altered-pursuit",
   "metadata": {},
   "outputs": [
    {
     "data": {
      "text/plain": [
       "0"
      ]
     },
     "execution_count": 7,
     "metadata": {},
     "output_type": "execute_result"
    }
   ],
   "source": [
    "tmp"
   ]
  },
  {
   "cell_type": "code",
   "execution_count": null,
   "id": "precious-steel",
   "metadata": {},
   "outputs": [],
   "source": []
  }
 ],
 "metadata": {
  "kernelspec": {
   "display_name": "Python 3",
   "language": "python",
   "name": "python3"
  },
  "language_info": {
   "codemirror_mode": {
    "name": "ipython",
    "version": 3
   },
   "file_extension": ".py",
   "mimetype": "text/x-python",
   "name": "python",
   "nbconvert_exporter": "python",
   "pygments_lexer": "ipython3",
   "version": "3.8.6"
  }
 },
 "nbformat": 4,
 "nbformat_minor": 5
}
