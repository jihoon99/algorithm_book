{
 "cells": [
  {
   "cell_type": "markdown",
   "id": "ignored-pakistan",
   "metadata": {},
   "source": [
    "# 프로그래밍에서 그래프는 2가지 방식으로 표현 가능하다.\n",
    "* 인접행렬\n",
    "* 인접리스트"
   ]
  },
  {
   "cell_type": "markdown",
   "id": "cutting-combat",
   "metadata": {},
   "source": [
    "## * 인접행렬\n",
    "\n",
    "|blank|0|1|2|\n",
    "|------|---|---|---|\n",
    "|0|0|7|5|\n",
    "|1|7|0|infinite|\n",
    "|2|5|infinite|0|\n",
    "\n",
    "* 0 에서 1로 이동시 7소요"
   ]
  },
  {
   "cell_type": "markdown",
   "id": "statutory-buyer",
   "metadata": {},
   "source": [
    "## * 인접리스트 방법"
   ]
  },
  {
   "cell_type": "code",
   "execution_count": 2,
   "id": "dressed-complaint",
   "metadata": {},
   "outputs": [],
   "source": [
    "graph = [[] for _ in range(3)]\n",
    "\n",
    "# 노드 0에 연결된 노드 정보 저장, 저장 형태 (노드, 거리)\n",
    "graph[0].append((1,7))\n",
    "graph[0].append((2,5))"
   ]
  },
  {
   "cell_type": "code",
   "execution_count": 4,
   "id": "motivated-alignment",
   "metadata": {},
   "outputs": [],
   "source": [
    "# 노드 1에 연결\n",
    "graph[1].append((0,7))\n",
    "\n",
    "# 노드 2에 연결\n",
    "graph[2].append((0,5))"
   ]
  },
  {
   "cell_type": "code",
   "execution_count": 5,
   "id": "temporal-naples",
   "metadata": {},
   "outputs": [
    {
     "name": "stdout",
     "output_type": "stream",
     "text": [
      "[[(1, 7), (2, 5)], [(0, 7)], [(0, 5)]]\n"
     ]
    }
   ],
   "source": [
    "print(graph)"
   ]
  },
  {
   "cell_type": "markdown",
   "id": "reverse-singing",
   "metadata": {},
   "source": [
    "## 효율성\n",
    "* 인접 행렬 | 장점 : 속도가 빠름. 단점 :메모리가 불필요함.\n",
    "* 인접 리스트 | 장점 : 리스트 방식은 메모리를 효율적으로 씀. 단점 : 속도가 느림"
   ]
  },
  {
   "cell_type": "code",
   "execution_count": 1,
   "id": "isolated-snowboard",
   "metadata": {},
   "outputs": [
    {
     "name": "stdout",
     "output_type": "stream",
     "text": [
      "1\n"
     ]
    }
   ],
   "source": [
    "print(1)"
   ]
  },
  {
   "cell_type": "code",
   "execution_count": null,
   "id": "reduced-istanbul",
   "metadata": {},
   "outputs": [],
   "source": []
  }
 ],
 "metadata": {
  "kernelspec": {
   "display_name": "Python 3",
   "language": "python",
   "name": "python3"
  },
  "language_info": {
   "codemirror_mode": {
    "name": "ipython",
    "version": 3
   },
   "file_extension": ".py",
   "mimetype": "text/x-python",
   "name": "python",
   "nbconvert_exporter": "python",
   "pygments_lexer": "ipython3",
   "version": "3.8.6"
  }
 },
 "nbformat": 4,
 "nbformat_minor": 5
}
