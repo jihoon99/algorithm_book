{
 "cells": [
  {
   "cell_type": "code",
   "execution_count": 1,
   "id": "desirable-lincoln",
   "metadata": {},
   "outputs": [],
   "source": [
    "input1 = 123402\n",
    "input2 = 7755"
   ]
  },
  {
   "cell_type": "code",
   "execution_count": 4,
   "id": "suffering-snapshot",
   "metadata": {},
   "outputs": [],
   "source": []
  },
  {
   "cell_type": "code",
   "execution_count": 15,
   "id": "metropolitan-settle",
   "metadata": {},
   "outputs": [],
   "source": [
    "import time"
   ]
  },
  {
   "cell_type": "code",
   "execution_count": 16,
   "id": "engaging-budapest",
   "metadata": {},
   "outputs": [
    {
     "name": "stdout",
     "output_type": "stream",
     "text": [
      "time : 0.0006558895111083984\n"
     ]
    }
   ],
   "source": [
    "input1 = input()\n",
    "length = int(len(input1)/2)\n",
    "\n",
    "first = input1[:length]\n",
    "sum1 = 0\n",
    "for x in first:\n",
    "    sum1 += int(x)\n",
    "\n",
    "sum2 = 0\n",
    "last = input1[length:]\n",
    "for x in last:\n",
    "    sum2 += int(x)\n",
    "    \n",
    "if sum1 == sum2:\n",
    "    answer = 'LUCKY'\n",
    "else:\n",
    "    answer = \"READY\"\n",
    "    \n"
   ]
  },
  {
   "cell_type": "code",
   "execution_count": 14,
   "id": "celtic-contributor",
   "metadata": {},
   "outputs": [
    {
     "data": {
      "text/plain": [
       "6"
      ]
     },
     "execution_count": 14,
     "metadata": {},
     "output_type": "execute_result"
    }
   ],
   "source": []
  },
  {
   "cell_type": "code",
   "execution_count": null,
   "id": "material-disposition",
   "metadata": {},
   "outputs": [],
   "source": []
  }
 ],
 "metadata": {
  "kernelspec": {
   "display_name": "Python 3",
   "language": "python",
   "name": "python3"
  },
  "language_info": {
   "codemirror_mode": {
    "name": "ipython",
    "version": 3
   },
   "file_extension": ".py",
   "mimetype": "text/x-python",
   "name": "python",
   "nbconvert_exporter": "python",
   "pygments_lexer": "ipython3",
   "version": "3.8.6"
  }
 },
 "nbformat": 4,
 "nbformat_minor": 5
}
