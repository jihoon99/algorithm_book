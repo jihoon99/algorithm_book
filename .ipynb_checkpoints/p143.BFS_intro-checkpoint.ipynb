{
 "cells": [
  {
   "cell_type": "code",
   "execution_count": 53,
   "id": "polyphonic-arctic",
   "metadata": {},
   "outputs": [],
   "source": [
    "maze = [\n",
    "    [1,0,1,0,1,0],\n",
    "    [1,1,1,1,1,1],\n",
    "    [0,0,0,0,0,1],\n",
    "    [1,1,1,1,1,1],\n",
    "    [1,1,1,1,1,1]\n",
    "]"
   ]
  },
  {
   "cell_type": "markdown",
   "id": "secret-traffic",
   "metadata": {},
   "source": [
    "# solution"
   ]
  },
  {
   "cell_type": "code",
   "execution_count": 54,
   "id": "allied-ivory",
   "metadata": {},
   "outputs": [
    {
     "name": "stdout",
     "output_type": "stream",
     "text": [
      "deque([(0, 0)])\n",
      "deque([(1, 0)])\n",
      "deque([(0, 0), (1, 1)])\n",
      "deque([(1, 1)])\n",
      "deque([(1, 2)])\n",
      "deque([(0, 2), (1, 3)])\n",
      "deque([(1, 3)])\n",
      "deque([(1, 4)])\n",
      "deque([(0, 4), (1, 5)])\n",
      "deque([(1, 5)])\n",
      "deque([(2, 5)])\n",
      "deque([(3, 5)])\n",
      "deque([(4, 5), (3, 4)])\n",
      "deque([(3, 4), (4, 4)])\n",
      "deque([(4, 4), (3, 3)])\n",
      "deque([(3, 3), (4, 3)])\n",
      "deque([(4, 3), (3, 2)])\n",
      "deque([(3, 2), (4, 2)])\n",
      "deque([(4, 2), (3, 1)])\n",
      "deque([(3, 1), (4, 1)])\n",
      "deque([(4, 1), (3, 0)])\n",
      "deque([(3, 0), (4, 0)])\n",
      "deque([(4, 0)])\n"
     ]
    },
    {
     "data": {
      "text/plain": [
       "11"
      ]
     },
     "execution_count": 54,
     "metadata": {},
     "output_type": "execute_result"
    }
   ],
   "source": [
    "dx = [-1,1,0,0] # up, down, left, right\n",
    "dy = [0,0,-1,1]\n",
    "\n",
    "x = 0\n",
    "y = 0\n",
    "# BFS\n",
    "queue = deque()\n",
    "queue.append((x,y))\n",
    "\n",
    "while queue:\n",
    "    print(queue)\n",
    "\n",
    "\n",
    "    x,y = queue.popleft()\n",
    "    for i in range(4):\n",
    "        nx = x + dx[i]\n",
    "        ny = y + dy[i]\n",
    "        \n",
    "        # out of bounding box\n",
    "        if nx <0 or ny <0 or nx >=len(maze) or ny >= len(maze[0]):\n",
    "            continue\n",
    "        \n",
    "        # ignore if wall is 0\n",
    "        if maze[nx][ny] == 0:\n",
    "            continue\n",
    "        \n",
    "        # get closest length when it is first visit\n",
    "        if maze[nx][ny] == 1:\n",
    "            maze[nx][ny] = maze[x][y] + 1\n",
    "            queue.append((nx,ny))\n",
    "maze[len(maze)-1][len(maze[0])-1-1]"
   ]
  },
  {
   "cell_type": "code",
   "execution_count": null,
   "id": "transparent-screw",
   "metadata": {},
   "outputs": [],
   "source": []
  },
  {
   "cell_type": "code",
   "execution_count": null,
   "id": "seasonal-colonial",
   "metadata": {},
   "outputs": [],
   "source": []
  },
  {
   "cell_type": "code",
   "execution_count": null,
   "id": "biblical-nudist",
   "metadata": {},
   "outputs": [],
   "source": []
  },
  {
   "cell_type": "code",
   "execution_count": 47,
   "id": "sweet-gnome",
   "metadata": {},
   "outputs": [
    {
     "data": {
      "text/plain": [
       "[[0, 0, 1, 0, 1, 0],\n",
       " [0, 0, 0, 0, 1, 1],\n",
       " [0, 0, 0, 0, 0, 1],\n",
       " [1, 1, 1, 1, 1, 1],\n",
       " [1, 1, 1, 1, 1, 1]]"
      ]
     },
     "execution_count": 47,
     "metadata": {},
     "output_type": "execute_result"
    }
   ],
   "source": [
    "maze"
   ]
  },
  {
   "cell_type": "code",
   "execution_count": null,
   "id": "little-daughter",
   "metadata": {},
   "outputs": [],
   "source": []
  },
  {
   "cell_type": "code",
   "execution_count": null,
   "id": "digital-wilson",
   "metadata": {},
   "outputs": [],
   "source": []
  },
  {
   "cell_type": "code",
   "execution_count": null,
   "id": "published-digit",
   "metadata": {},
   "outputs": [],
   "source": []
  },
  {
   "cell_type": "code",
   "execution_count": 14,
   "id": "contemporary-permit",
   "metadata": {},
   "outputs": [],
   "source": [
    "dx = [-1,0,1,0] # left up right down\n",
    "dy = [0,-1,0,1]\n",
    "\n",
    "starting = [0,0]\n",
    "\n",
    "from collections import deque\n",
    "array = deque([])"
   ]
  },
  {
   "cell_type": "code",
   "execution_count": 15,
   "id": "infrared-trinidad",
   "metadata": {},
   "outputs": [],
   "source": [
    "maze[0][0] = 0\n",
    "cnt = 1"
   ]
  },
  {
   "cell_type": "code",
   "execution_count": 40,
   "id": "loving-carrier",
   "metadata": {},
   "outputs": [],
   "source": [
    "starting_right = [starting[0]+dx[2], starting[1]+dy[2]]\n",
    "starting_down = [starting[0]+dx[3], starting[1]+dy[3]]\n",
    "starting_left = [starting[0]+dx[0], starting[1]+dy[0]]\n",
    "starting_up = [starting[0]+dx[1], starting[1]+dy[1]]\n",
    "\n",
    "\n",
    "# while starting[0] == len(maze)-1 and starting[1] == len(maze[0]) - 1:\n",
    "\n",
    "if maze[starting_right[0]][starting_right[1]] == 1 and starting_right[0] >= 0 and starting_right[1] >= 0:\n",
    "    array.append(starting_right)\n",
    "    maze[starting[0]][starting[1]] = 0\n",
    "    starting[0] = starting_right[0]\n",
    "    starting[1] = starting_right[1]\n",
    "    cnt += 1\n",
    "\n",
    "if maze[starting_down[0]][starting_down[1]] == 1 and starting_down[0] >= 0 and starting_down[1] >= 0:\n",
    "    array.append(starting_down)\n",
    "    maze[starting[0]][starting[1]] = 0\n",
    "    starting[0] = starting_down[0]\n",
    "    starting[1] = starting_down[1]\n",
    "    cnt += 1\n",
    "\n",
    "if maze[starting_left[0]][starting_left[1]] == 1 and starting_left[0] >= 0 and starting_left[1] >= 0:\n",
    "    array.append(starting_left)\n",
    "    maze[starting[0]][starting[1]] = 0\n",
    "    starting[0] = starting_left[0]\n",
    "    starting[1] = starting_left[1]\n",
    "    cnt += 1\n",
    "\n",
    "if maze[starting_up[0]][starting_up[1]] == 1 and starting_up[0] >= 0 and starting_up[1] >= 0:\n",
    "    array.append(starting_up)\n",
    "    maze[starting[0]][starting[1]] = 0\n",
    "    starting[0] = starting_up[0]\n",
    "    starting[1] = starting_up[1]\n",
    "    cnt += 1\n",
    "\n"
   ]
  },
  {
   "cell_type": "code",
   "execution_count": 41,
   "id": "irish-solid",
   "metadata": {},
   "outputs": [
    {
     "data": {
      "text/plain": [
       "deque([[1, 0], [1, 1], [1, 2], [1, 3], [0, 2]])"
      ]
     },
     "execution_count": 41,
     "metadata": {},
     "output_type": "execute_result"
    }
   ],
   "source": [
    "array"
   ]
  },
  {
   "cell_type": "code",
   "execution_count": 42,
   "id": "universal-movie",
   "metadata": {},
   "outputs": [
    {
     "data": {
      "text/plain": [
       "[[0, 0, 1, 0, 1, 0],\n",
       " [0, 0, 0, 0, 1, 1],\n",
       " [0, 0, 0, 0, 0, 1],\n",
       " [1, 1, 1, 1, 1, 1],\n",
       " [1, 1, 1, 1, 1, 1]]"
      ]
     },
     "execution_count": 42,
     "metadata": {},
     "output_type": "execute_result"
    }
   ],
   "source": [
    "maze"
   ]
  },
  {
   "cell_type": "code",
   "execution_count": null,
   "id": "aging-egyptian",
   "metadata": {},
   "outputs": [],
   "source": []
  },
  {
   "cell_type": "code",
   "execution_count": null,
   "id": "proof-chosen",
   "metadata": {},
   "outputs": [],
   "source": []
  }
 ],
 "metadata": {
  "kernelspec": {
   "display_name": "Python 3",
   "language": "python",
   "name": "python3"
  },
  "language_info": {
   "codemirror_mode": {
    "name": "ipython",
    "version": 3
   },
   "file_extension": ".py",
   "mimetype": "text/x-python",
   "name": "python",
   "nbconvert_exporter": "python",
   "pygments_lexer": "ipython3",
   "version": "3.8.6"
  }
 },
 "nbformat": 4,
 "nbformat_minor": 5
}
