{
 "cells": [
  {
   "cell_type": "code",
   "execution_count": 1,
   "id": "shared-testimony",
   "metadata": {},
   "outputs": [],
   "source": [
    "input1 = 'K1KA5CB7'"
   ]
  },
  {
   "cell_type": "code",
   "execution_count": 11,
   "id": "large-delicious",
   "metadata": {},
   "outputs": [
    {
     "data": {
      "text/plain": [
       "'ABCKK13'"
      ]
     },
     "execution_count": 11,
     "metadata": {},
     "output_type": "execute_result"
    }
   ],
   "source": [
    "string = []\n",
    "summation = 0\n",
    "for i in input1:\n",
    "    try:\n",
    "        summation += int(i)\n",
    "    except:\n",
    "        string.append(i)\n",
    "\n",
    "\"\".join(sorted(string))+str(summation)"
   ]
  }
 ],
 "metadata": {
  "kernelspec": {
   "display_name": "Python 3",
   "language": "python",
   "name": "python3"
  },
  "language_info": {
   "codemirror_mode": {
    "name": "ipython",
    "version": 3
   },
   "file_extension": ".py",
   "mimetype": "text/x-python",
   "name": "python",
   "nbconvert_exporter": "python",
   "pygments_lexer": "ipython3",
   "version": "3.8.6"
  }
 },
 "nbformat": 4,
 "nbformat_minor": 5
}
