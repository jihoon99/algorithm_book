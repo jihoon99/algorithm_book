{
 "cells": [
  {
   "cell_type": "code",
   "execution_count": 1,
   "id": "split-trade",
   "metadata": {},
   "outputs": [],
   "source": [
    "import pandas as pd\n",
    "import numpy as np"
   ]
  },
  {
   "cell_type": "code",
   "execution_count": 8,
   "id": "infrared-packet",
   "metadata": {},
   "outputs": [],
   "source": [
    "N = 25\n",
    "K = 5"
   ]
  },
  {
   "cell_type": "code",
   "execution_count": 10,
   "id": "innocent-swedish",
   "metadata": {},
   "outputs": [],
   "source": [
    "iterations = 0\n",
    "while N != 1:\n",
    "    \n",
    "    if N % K == 0:\n",
    "        N = N / K\n",
    "    else:\n",
    "        N -= 1\n",
    "    \n",
    "    iterations += 1"
   ]
  },
  {
   "cell_type": "code",
   "execution_count": 11,
   "id": "binary-beaver",
   "metadata": {},
   "outputs": [
    {
     "data": {
      "text/plain": [
       "2"
      ]
     },
     "execution_count": 11,
     "metadata": {},
     "output_type": "execute_result"
    }
   ],
   "source": [
    "iterations"
   ]
  },
  {
   "cell_type": "code",
   "execution_count": null,
   "id": "thermal-track",
   "metadata": {},
   "outputs": [],
   "source": []
  }
 ],
 "metadata": {
  "kernelspec": {
   "display_name": "Python 3",
   "language": "python",
   "name": "python3"
  },
  "language_info": {
   "codemirror_mode": {
    "name": "ipython",
    "version": 3
   },
   "file_extension": ".py",
   "mimetype": "text/x-python",
   "name": "python",
   "nbconvert_exporter": "python",
   "pygments_lexer": "ipython3",
   "version": "3.8.6"
  }
 },
 "nbformat": 4,
 "nbformat_minor": 5
}
