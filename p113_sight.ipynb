{
 "cells": [
  {
   "cell_type": "markdown",
   "id": "sonic-mounting",
   "metadata": {},
   "source": [
    "# 완전탐색"
   ]
  },
  {
   "cell_type": "markdown",
   "id": "casual-pizza",
   "metadata": {},
   "source": [
    "## 탐색해야 할 전체 데이터의 개수가 100만개 이하일 때 완전 탐색을 사용."
   ]
  },
  {
   "cell_type": "code",
   "execution_count": 1,
   "id": "artistic-garbage",
   "metadata": {},
   "outputs": [],
   "source": [
    "# 00h, 00m, 00s -> Nh, 59h, 59s\n",
    "# count how many 3 is occured b/w those times"
   ]
  },
  {
   "cell_type": "code",
   "execution_count": 2,
   "id": "sealed-conversion",
   "metadata": {},
   "outputs": [],
   "source": [
    "n = 5"
   ]
  },
  {
   "cell_type": "code",
   "execution_count": 22,
   "id": "flush-packing",
   "metadata": {},
   "outputs": [],
   "source": [
    "\n",
    "second = 0\n",
    "minute = 0\n",
    "hour = 0 \n",
    "cnt = 0\n",
    "length = 0\n",
    "while n+1 != hour:\n",
    "    second += 1\n",
    "    \n",
    "    if second == 60:\n",
    "        second = 0\n",
    "        minute += 1\n",
    "        \n",
    "    if minute == 60:\n",
    "        minute = 0\n",
    "        hour += 1\n",
    "        \n",
    "    tmp_hour = ''\n",
    "    for i in [hour, minute, second]:\n",
    "        if i < 10:\n",
    "            tmp_hour += '0'+str(i)\n",
    "        else:\n",
    "            tmp_hour += str(i)\n",
    "        \n",
    "    if '3' in tmp_hour:\n",
    "        cnt += 1\n"
   ]
  },
  {
   "cell_type": "code",
   "execution_count": 24,
   "id": "universal-dairy",
   "metadata": {},
   "outputs": [
    {
     "data": {
      "text/plain": [
       "11475"
      ]
     },
     "execution_count": 24,
     "metadata": {},
     "output_type": "execute_result"
    }
   ],
   "source": [
    "cnt"
   ]
  }
 ],
 "metadata": {
  "kernelspec": {
   "display_name": "Python 3",
   "language": "python",
   "name": "python3"
  },
  "language_info": {
   "codemirror_mode": {
    "name": "ipython",
    "version": 3
   },
   "file_extension": ".py",
   "mimetype": "text/x-python",
   "name": "python",
   "nbconvert_exporter": "python",
   "pygments_lexer": "ipython3",
   "version": "3.8.6"
  }
 },
 "nbformat": 4,
 "nbformat_minor": 5
}
