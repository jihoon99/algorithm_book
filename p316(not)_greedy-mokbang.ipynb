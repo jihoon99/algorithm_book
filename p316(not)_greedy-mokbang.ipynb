{
 "cells": [
  {
   "cell_type": "code",
   "execution_count": 186,
   "id": "lesser-comment",
   "metadata": {},
   "outputs": [],
   "source": [
    "food_times = [3,1,2]\n",
    "k = 5              # network_error\n",
    "\n"
   ]
  },
  {
   "cell_type": "code",
   "execution_count": 187,
   "id": "marine-millennium",
   "metadata": {},
   "outputs": [
    {
     "name": "stdout",
     "output_type": "stream",
     "text": [
      "[[1], [1]] [[2, 0, 1], [1, 2, 3]] [[3, 1, 2], [1, 2, 3]]\n",
      "[[1], [1]] [[1, 0], [1, 3]] [[2, 1], [1, 3]]\n"
     ]
    },
    {
     "data": {
      "text/plain": [
       "1"
      ]
     },
     "execution_count": 187,
     "metadata": {},
     "output_type": "execute_result"
    }
   ],
   "source": [
    "food_times = [food_times, list(range(1,len(food_times)+1))]\n",
    "\n",
    "def all_sub(data):\n",
    "    tmp_min = min(data[0])\n",
    "    data[0] = [x-tmp_min for x in data[0]]\n",
    "    cnt = tmp_min*len(data[0])\n",
    "    return cnt, data\n",
    "\n",
    "def delete_zeros(data):\n",
    "    for idx,i in enumerate(data[0]):\n",
    "        if i == 0:\n",
    "            data[0].pop(idx)\n",
    "            data[1].pop(idx)\n",
    "    return data\n",
    "\n",
    "cnt = 0\n",
    "\n",
    "while cnt < k:\n",
    "    pre_food = food_times.copy()\n",
    "    tmp_cnt, food_times = all_sub(food_times)\n",
    "    if cnt+tmp_cnt > k:\n",
    "        food_times = pre_food\n",
    "        break\n",
    "    cnt += tmp_cnt\n",
    "    food_times = delete_zeros(food_times)\n",
    "\n",
    "move = k-cnt\n",
    "answer = food_times[1][move]\n"
   ]
  },
  {
   "cell_type": "code",
   "execution_count": 183,
   "id": "neutral-brunswick",
   "metadata": {},
   "outputs": [
    {
     "data": {
      "text/plain": [
       "[[2, 1], [1, 3]]"
      ]
     },
     "execution_count": 183,
     "metadata": {},
     "output_type": "execute_result"
    }
   ],
   "source": [
    "food_times"
   ]
  },
  {
   "cell_type": "code",
   "execution_count": 185,
   "id": "commercial-lotus",
   "metadata": {},
   "outputs": [
    {
     "data": {
      "text/plain": [
       "3"
      ]
     },
     "execution_count": 185,
     "metadata": {},
     "output_type": "execute_result"
    }
   ],
   "source": [
    "cnt"
   ]
  },
  {
   "cell_type": "code",
   "execution_count": null,
   "id": "synthetic-highlight",
   "metadata": {},
   "outputs": [],
   "source": []
  },
  {
   "cell_type": "code",
   "execution_count": 137,
   "id": "equal-radio",
   "metadata": {},
   "outputs": [
    {
     "data": {
      "text/plain": [
       "[[1], [1]]"
      ]
     },
     "execution_count": 137,
     "metadata": {},
     "output_type": "execute_result"
    }
   ],
   "source": [
    "food_times."
   ]
  },
  {
   "cell_type": "code",
   "execution_count": 105,
   "id": "empirical-effort",
   "metadata": {},
   "outputs": [
    {
     "data": {
      "text/plain": [
       "[3]"
      ]
     },
     "execution_count": 105,
     "metadata": {},
     "output_type": "execute_result"
    }
   ],
   "source": [
    "left = 0\n",
    "cnt = 0\n",
    "food_times = [food_times, list(range(1,len(food_times)+1))]\n",
    "\n",
    "while cnt <= k-1:\n",
    "    if left < len(food_times[0]):\n",
    "        food_times[0][left] -= 1\n",
    "        cnt += 1\n",
    "        \n",
    "        if food_times[0][left] == 0:\n",
    "            food_times[0].pop(left)\n",
    "            food_times[1].pop(left)\n",
    "            left += 1\n",
    "\n",
    "        else:\n",
    "            left += 1\n",
    "\n",
    "    else:\n",
    "        left = 0\n",
    "\n",
    "food_times[left]"
   ]
  },
  {
   "cell_type": "code",
   "execution_count": 106,
   "id": "frank-produce",
   "metadata": {},
   "outputs": [
    {
     "data": {
      "text/plain": [
       "[[1], [3]]"
      ]
     },
     "execution_count": 106,
     "metadata": {},
     "output_type": "execute_result"
    }
   ],
   "source": [
    "food_times"
   ]
  },
  {
   "cell_type": "code",
   "execution_count": 72,
   "id": "residential-excerpt",
   "metadata": {},
   "outputs": [
    {
     "data": {
      "text/plain": [
       "[[3, 1, 2], [1, 2, 3]]"
      ]
     },
     "execution_count": 72,
     "metadata": {},
     "output_type": "execute_result"
    }
   ],
   "source": [
    "for i in range(length):\n",
    "    "
   ]
  },
  {
   "cell_type": "code",
   "execution_count": null,
   "id": "bigger-festival",
   "metadata": {},
   "outputs": [],
   "source": []
  },
  {
   "cell_type": "code",
   "execution_count": null,
   "id": "private-antibody",
   "metadata": {},
   "outputs": [],
   "source": []
  },
  {
   "cell_type": "code",
   "execution_count": 64,
   "id": "accredited-boating",
   "metadata": {},
   "outputs": [
    {
     "name": "stdout",
     "output_type": "stream",
     "text": [
      "0\n"
     ]
    }
   ],
   "source": [
    "cnt = 0\n",
    "length = len(food_times)\n",
    "left = 0\n",
    "eat = 0\n",
    "while cnt < k:\n",
    "\n",
    "    while eat == 0:\n",
    "        if left < length:\n",
    "            if food_times[left] != 0:\n",
    "                food_times[left] -= 1\n",
    "                left += 1\n",
    "                eat += 1\n",
    "            else:\n",
    "                left += 1\n",
    "        else:\n",
    "            left = 0\n",
    "            if food_times[left] != 0:\n",
    "                food_times[left] -= 1\n",
    "                left += 1\n",
    "                eat += 1\n",
    "    \n",
    "    cnt += 1\n",
    "\n",
    "answer = left"
   ]
  },
  {
   "cell_type": "code",
   "execution_count": 65,
   "id": "original-delay",
   "metadata": {},
   "outputs": [
    {
     "data": {
      "text/plain": [
       "1"
      ]
     },
     "execution_count": 65,
     "metadata": {},
     "output_type": "execute_result"
    }
   ],
   "source": [
    "left"
   ]
  },
  {
   "cell_type": "code",
   "execution_count": 45,
   "id": "disabled-buffer",
   "metadata": {},
   "outputs": [
    {
     "data": {
      "text/plain": [
       "1"
      ]
     },
     "execution_count": 45,
     "metadata": {},
     "output_type": "execute_result"
    }
   ],
   "source": [
    "answer"
   ]
  },
  {
   "cell_type": "code",
   "execution_count": 10,
   "id": "perfect-coverage",
   "metadata": {},
   "outputs": [],
   "source": [
    "food_times"
   ]
  },
  {
   "cell_type": "code",
   "execution_count": null,
   "id": "coordinated-pound",
   "metadata": {},
   "outputs": [],
   "source": []
  }
 ],
 "metadata": {
  "kernelspec": {
   "display_name": "Python 3",
   "language": "python",
   "name": "python3"
  },
  "language_info": {
   "codemirror_mode": {
    "name": "ipython",
    "version": 3
   },
   "file_extension": ".py",
   "mimetype": "text/x-python",
   "name": "python",
   "nbconvert_exporter": "python",
   "pygments_lexer": "ipython3",
   "version": "3.8.6"
  }
 },
 "nbformat": 4,
 "nbformat_minor": 5
}
