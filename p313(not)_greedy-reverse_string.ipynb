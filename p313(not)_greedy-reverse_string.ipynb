{
 "cells": [
  {
   "cell_type": "code",
   "execution_count": 12,
   "id": "laughing-filter",
   "metadata": {},
   "outputs": [],
   "source": [
    "input1 = '10101011111100001101'\n"
   ]
  },
  {
   "cell_type": "code",
   "execution_count": 17,
   "id": "accessory-palace",
   "metadata": {},
   "outputs": [],
   "source": [
    "one = 0\n",
    "for x in input1: \n",
    "    if x == '1': \n",
    "        one+=1"
   ]
  },
  {
   "cell_type": "code",
   "execution_count": 19,
   "id": "ultimate-skirt",
   "metadata": {},
   "outputs": [],
   "source": [
    "zero = len(input1) - one"
   ]
  },
  {
   "cell_type": "code",
   "execution_count": 20,
   "id": "welsh-suspension",
   "metadata": {},
   "outputs": [
    {
     "name": "stdout",
     "output_type": "stream",
     "text": [
      "12 8\n"
     ]
    }
   ],
   "source": [
    "print(one, zero)"
   ]
  },
  {
   "cell_type": "code",
   "execution_count": null,
   "id": "configured-robinson",
   "metadata": {},
   "outputs": [],
   "source": []
  }
 ],
 "metadata": {
  "kernelspec": {
   "display_name": "Python 3",
   "language": "python",
   "name": "python3"
  },
  "language_info": {
   "codemirror_mode": {
    "name": "ipython",
    "version": 3
   },
   "file_extension": ".py",
   "mimetype": "text/x-python",
   "name": "python",
   "nbconvert_exporter": "python",
   "pygments_lexer": "ipython3",
   "version": "3.8.6"
  }
 },
 "nbformat": 4,
 "nbformat_minor": 5
}
