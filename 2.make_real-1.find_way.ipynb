{
 "cells": [
  {
   "cell_type": "code",
   "execution_count": 1,
   "id": "collectible-party",
   "metadata": {},
   "outputs": [],
   "source": [
    "import numpy as np"
   ]
  },
  {
   "cell_type": "code",
   "execution_count": 14,
   "id": "studied-fairy",
   "metadata": {},
   "outputs": [],
   "source": [
    "n = 5\n",
    "do = ['R','R','R','U','D','D']"
   ]
  },
  {
   "cell_type": "code",
   "execution_count": 15,
   "id": "selective-murder",
   "metadata": {},
   "outputs": [
    {
     "name": "stdout",
     "output_type": "stream",
     "text": [
      "3 4\n"
     ]
    }
   ],
   "source": [
    "x = 1\n",
    "y = 1\n",
    "\n",
    "for i in do:\n",
    "    if x == 0 : x = 1\n",
    "    if y == 0 : y = 1\n",
    "    if x == n+1 : x = n\n",
    "    if y == n+1 : y = n\n",
    "        \n",
    "    if i == 'R':\n",
    "        x += 1\n",
    "    if i == 'L':\n",
    "        x -= 1\n",
    "    if i == 'U':\n",
    "        y -= 1\n",
    "    if i == 'D':\n",
    "        y+= 1\n",
    "        \n",
    "print(y, x)"
   ]
  }
 ],
 "metadata": {
  "kernelspec": {
   "display_name": "Python 3",
   "language": "python",
   "name": "python3"
  },
  "language_info": {
   "codemirror_mode": {
    "name": "ipython",
    "version": 3
   },
   "file_extension": ".py",
   "mimetype": "text/x-python",
   "name": "python",
   "nbconvert_exporter": "python",
   "pygments_lexer": "ipython3",
   "version": "3.8.6"
  }
 },
 "nbformat": 4,
 "nbformat_minor": 5
}
