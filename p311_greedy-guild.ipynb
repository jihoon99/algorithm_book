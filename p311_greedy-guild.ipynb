{
 "cells": [
  {
   "cell_type": "code",
   "execution_count": 7,
   "id": "material-making",
   "metadata": {},
   "outputs": [],
   "source": [
    "# 공포도 : 반드시 몇명 이상으로 구성한 모험가 그룹에 참여해야함.\n",
    "\n",
    "a = 5\n",
    "b = [2,3,1,2,2]"
   ]
  },
  {
   "cell_type": "code",
   "execution_count": 8,
   "id": "special-triple",
   "metadata": {},
   "outputs": [],
   "source": [
    "# 정순\n",
    "n = 0\n",
    "b = sorted(b)\n",
    "count = 0\n",
    "max_fear = 0\n",
    "\n",
    "# 1 2 2 2 3\n",
    "while len(b) > 0:\n",
    "    max_fear = max(max_fear, b[0])\n",
    "    count += 1\n",
    "    b = b[1:]\n",
    "    \n",
    "    if count >= max_fear:\n",
    "        n += 1\n",
    "        count = 0\n",
    "        max_fear = 0\n",
    "        "
   ]
  },
  {
   "cell_type": "code",
   "execution_count": 9,
   "id": "monetary-casino",
   "metadata": {},
   "outputs": [
    {
     "data": {
      "text/plain": [
       "2"
      ]
     },
     "execution_count": 9,
     "metadata": {},
     "output_type": "execute_result"
    }
   ],
   "source": [
    "n"
   ]
  },
  {
   "cell_type": "code",
   "execution_count": 21,
   "id": "lucky-chain",
   "metadata": {},
   "outputs": [],
   "source": [
    "b = sorted(b, reverse = True)"
   ]
  },
  {
   "cell_type": "code",
   "execution_count": 22,
   "id": "human-bhutan",
   "metadata": {},
   "outputs": [],
   "source": [
    "# 역순\n",
    "n = 0\n",
    "\n",
    "while len(b) > 0 and len(b) >= b[0]:\n",
    "    length = b[0]\n",
    "    for _ in range(length):\n",
    "        b.pop(0)\n",
    "        \n",
    "    n += 1"
   ]
  },
  {
   "cell_type": "code",
   "execution_count": 24,
   "id": "later-access",
   "metadata": {},
   "outputs": [
    {
     "data": {
      "text/plain": [
       "2"
      ]
     },
     "execution_count": 24,
     "metadata": {},
     "output_type": "execute_result"
    }
   ],
   "source": [
    "n"
   ]
  },
  {
   "cell_type": "code",
   "execution_count": null,
   "id": "moral-amber",
   "metadata": {},
   "outputs": [],
   "source": []
  }
 ],
 "metadata": {
  "kernelspec": {
   "display_name": "Python 3",
   "language": "python",
   "name": "python3"
  },
  "language_info": {
   "codemirror_mode": {
    "name": "ipython",
    "version": 3
   },
   "file_extension": ".py",
   "mimetype": "text/x-python",
   "name": "python",
   "nbconvert_exporter": "python",
   "pygments_lexer": "ipython3",
   "version": "3.8.6"
  }
 },
 "nbformat": 4,
 "nbformat_minor": 5
}
