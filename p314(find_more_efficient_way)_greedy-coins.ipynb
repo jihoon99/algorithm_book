{
 "cells": [
  {
   "cell_type": "code",
   "execution_count": 60,
   "id": "white-authority",
   "metadata": {},
   "outputs": [],
   "source": [
    "coins = [3,2,1,1,9] # 8\n",
    "coins1 = [3,5,7]"
   ]
  },
  {
   "cell_type": "code",
   "execution_count": null,
   "id": "regular-penny",
   "metadata": {},
   "outputs": [],
   "source": []
  },
  {
   "cell_type": "code",
   "execution_count": null,
   "id": "harmful-celtic",
   "metadata": {},
   "outputs": [],
   "source": []
  },
  {
   "cell_type": "code",
   "execution_count": null,
   "id": "weighted-falls",
   "metadata": {},
   "outputs": [],
   "source": []
  },
  {
   "cell_type": "code",
   "execution_count": null,
   "id": "broken-gasoline",
   "metadata": {},
   "outputs": [],
   "source": []
  },
  {
   "cell_type": "code",
   "execution_count": 55,
   "id": "iraqi-force",
   "metadata": {},
   "outputs": [],
   "source": [
    "from itertools import combinations\n",
    "\n",
    "all_combinations = []\n",
    "\n",
    "for i in range(1,len(coins)+1):\n",
    "    tmp = list(combinations(coins, i))\n",
    "    for j in tmp:\n",
    "        all_combinations.append(sum(j))"
   ]
  },
  {
   "cell_type": "code",
   "execution_count": 56,
   "id": "quantitative-immigration",
   "metadata": {},
   "outputs": [],
   "source": [
    "all_combinations = list(set(all_combinations))\n"
   ]
  },
  {
   "cell_type": "code",
   "execution_count": 57,
   "id": "dense-bulgarian",
   "metadata": {},
   "outputs": [],
   "source": [
    "for i in range(1, 1+len(all_combinations)):\n",
    "    if i not in all_combinations:\n",
    "        answer = i\n",
    "        break"
   ]
  },
  {
   "cell_type": "code",
   "execution_count": 58,
   "id": "reported-photography",
   "metadata": {},
   "outputs": [
    {
     "data": {
      "text/plain": [
       "1"
      ]
     },
     "execution_count": 58,
     "metadata": {},
     "output_type": "execute_result"
    }
   ],
   "source": [
    "answer"
   ]
  }
 ],
 "metadata": {
  "kernelspec": {
   "display_name": "Python 3",
   "language": "python",
   "name": "python3"
  },
  "language_info": {
   "codemirror_mode": {
    "name": "ipython",
    "version": 3
   },
   "file_extension": ".py",
   "mimetype": "text/x-python",
   "name": "python",
   "nbconvert_exporter": "python",
   "pygments_lexer": "ipython3",
   "version": "3.8.6"
  }
 },
 "nbformat": 4,
 "nbformat_minor": 5
}
