{
 "cells": [
  {
   "cell_type": "code",
   "execution_count": 20,
   "id": "proper-serial",
   "metadata": {},
   "outputs": [],
   "source": [
    "a = 5\n",
    "b = [2,3,1,2,2]"
   ]
  },
  {
   "cell_type": "code",
   "execution_count": 25,
   "id": "muslim-stereo",
   "metadata": {},
   "outputs": [],
   "source": [
    "# 틀림. 근접함"
   ]
  },
  {
   "cell_type": "code",
   "execution_count": null,
   "id": "promising-insulation",
   "metadata": {},
   "outputs": [],
   "source": []
  },
  {
   "cell_type": "code",
   "execution_count": null,
   "id": "understanding-split",
   "metadata": {},
   "outputs": [],
   "source": []
  },
  {
   "cell_type": "code",
   "execution_count": null,
   "id": "constant-humidity",
   "metadata": {},
   "outputs": [],
   "source": []
  },
  {
   "cell_type": "code",
   "execution_count": null,
   "id": "interior-northeast",
   "metadata": {},
   "outputs": [],
   "source": []
  },
  {
   "cell_type": "code",
   "execution_count": 21,
   "id": "undefined-survey",
   "metadata": {},
   "outputs": [],
   "source": [
    "b = sorted(b, reverse = True)"
   ]
  },
  {
   "cell_type": "code",
   "execution_count": 22,
   "id": "distinct-maldives",
   "metadata": {},
   "outputs": [],
   "source": [
    "n = 0\n",
    "\n",
    "while len(b) > 0 and len(b) >= b[0]:\n",
    "    length = b[0]\n",
    "    for _ in range(length):\n",
    "        b.pop(0)\n",
    "        \n",
    "    n += 1"
   ]
  },
  {
   "cell_type": "code",
   "execution_count": 24,
   "id": "governmental-thickness",
   "metadata": {},
   "outputs": [
    {
     "data": {
      "text/plain": [
       "2"
      ]
     },
     "execution_count": 24,
     "metadata": {},
     "output_type": "execute_result"
    }
   ],
   "source": [
    "n"
   ]
  },
  {
   "cell_type": "code",
   "execution_count": null,
   "id": "historic-diabetes",
   "metadata": {},
   "outputs": [],
   "source": []
  }
 ],
 "metadata": {
  "kernelspec": {
   "display_name": "Python 3",
   "language": "python",
   "name": "python3"
  },
  "language_info": {
   "codemirror_mode": {
    "name": "ipython",
    "version": 3
   },
   "file_extension": ".py",
   "mimetype": "text/x-python",
   "name": "python",
   "nbconvert_exporter": "python",
   "pygments_lexer": "ipython3",
   "version": "3.8.6"
  }
 },
 "nbformat": 4,
 "nbformat_minor": 5
}
