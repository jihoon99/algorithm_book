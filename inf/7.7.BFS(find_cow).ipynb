{
 "cells": [
  {
   "cell_type": "code",
   "execution_count": 1,
   "id": "severe-acoustic",
   "metadata": {},
   "outputs": [],
   "source": [
    "where_i_am = 5\n",
    "where_cow_is = 14\n",
    "\n",
    "# i and cow are stay on the line. \n",
    "# movement : go forward 1, backward 1, forward 5 is possible way\n",
    "# find closest way to get to cow"
   ]
  },
  {
   "cell_type": "code",
   "execution_count": 2,
   "id": "demanding-buddy",
   "metadata": {},
   "outputs": [],
   "source": [
    "from collections import deque\n",
    "\n",
    "dq = deque([])"
   ]
  },
  {
   "cell_type": "code",
   "execution_count": null,
   "id": "acoustic-stopping",
   "metadata": {},
   "outputs": [],
   "source": [
    "dq.append(where_i_am)\n",
    "\n",
    "\n",
    "while dq:\n",
    "    "
   ]
  }
 ],
 "metadata": {
  "kernelspec": {
   "display_name": "Python 3",
   "language": "python",
   "name": "python3"
  },
  "language_info": {
   "codemirror_mode": {
    "name": "ipython",
    "version": 3
   },
   "file_extension": ".py",
   "mimetype": "text/x-python",
   "name": "python",
   "nbconvert_exporter": "python",
   "pygments_lexer": "ipython3",
   "version": "3.8.6"
  }
 },
 "nbformat": 4,
 "nbformat_minor": 5
}
