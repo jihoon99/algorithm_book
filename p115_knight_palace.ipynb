{
 "cells": [
  {
   "cell_type": "code",
   "execution_count": 1,
   "id": "wound-hampshire",
   "metadata": {},
   "outputs": [],
   "source": [
    "# 8*8 is given\n",
    "# two movement's are available\n",
    "# 2. movement_special : two move horizontal and one move vertical\n",
    "# 3. movement_special : two move vertical and one move horizontal"
   ]
  },
  {
   "cell_type": "code",
   "execution_count": 29,
   "id": "olympic-harrison",
   "metadata": {},
   "outputs": [],
   "source": [
    "# return : posible movement\n",
    "\n",
    "start = 'd5'\n",
    "# answer = 2"
   ]
  },
  {
   "cell_type": "code",
   "execution_count": 30,
   "id": "opposite-boundary",
   "metadata": {},
   "outputs": [],
   "source": [
    "rows = [0,1,2,3,4,5,6,7]\n",
    "columns = ['a','b','c','d','e','f','g','h']\n",
    "\n",
    "given_row = int(start[1])-1\n",
    "given_column = start[0]\n",
    "for idx, i in enumerate(columns):\n",
    "    if i == given_column:\n",
    "        given_column = idx \n",
    "\n",
    "\n",
    "outcome = []\n",
    "moves = [2,1,-1,-2]\n",
    "cnt = 0\n",
    "for i in moves:\n",
    "    for j in moves:\n",
    "        if abs(i) + abs(j) == 3:\n",
    "            \n",
    "            #오른쪽 아래\n",
    "            given_row_copy = given_row + i\n",
    "            given_column_copy = given_column + j\n",
    "            \n",
    "            if given_row_copy >= 0 and given_row_copy < 8 and given_column_copy < 8 and given_column_copy > 0:\n",
    "                cnt += 1\n"
   ]
  },
  {
   "cell_type": "code",
   "execution_count": 31,
   "id": "governing-zoning",
   "metadata": {},
   "outputs": [
    {
     "data": {
      "text/plain": [
       "8"
      ]
     },
     "execution_count": 31,
     "metadata": {},
     "output_type": "execute_result"
    }
   ],
   "source": [
    "cnt"
   ]
  },
  {
   "cell_type": "code",
   "execution_count": null,
   "id": "automated-affect",
   "metadata": {},
   "outputs": [],
   "source": []
  }
 ],
 "metadata": {
  "kernelspec": {
   "display_name": "Python 3",
   "language": "python",
   "name": "python3"
  },
  "language_info": {
   "codemirror_mode": {
    "name": "ipython",
    "version": 3
   },
   "file_extension": ".py",
   "mimetype": "text/x-python",
   "name": "python",
   "nbconvert_exporter": "python",
   "pygments_lexer": "ipython3",
   "version": "3.8.6"
  }
 },
 "nbformat": 4,
 "nbformat_minor": 5
}
