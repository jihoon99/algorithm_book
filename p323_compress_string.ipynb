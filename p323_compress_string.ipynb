{
 "cells": [
  {
   "cell_type": "code",
   "execution_count": 58,
   "id": "constant-mainstream",
   "metadata": {},
   "outputs": [],
   "source": [
    "input1 = 'aabbaccc'\n",
    "input2 = 'ababcdcdababcdcd'\n",
    "intpu3 = 'abcabcdede'\n",
    "input4 = 'abcabcabcabcdededededede'\n",
    "input5 = 'xababcdcdababcdcd'\n",
    "s = 'a'"
   ]
  },
  {
   "cell_type": "code",
   "execution_count": 59,
   "id": "through-limit",
   "metadata": {},
   "outputs": [],
   "source": [
    "max_length = max(1,len(s)//2)\n",
    "\n",
    "\n",
    "def do(input1, length):\n",
    "    left = 0\n",
    "    cnt = 1\n",
    "    output = \"\"\n",
    "    for i in range(len(input1)//length):\n",
    "        tmp = input1[left:left+length]\n",
    "\n",
    "        if tmp == input1[left+length:left+length*2]:\n",
    "            cnt += 1\n",
    "            left += length\n",
    "        else:\n",
    "            if cnt <= 1:\n",
    "                output += tmp\n",
    "                left += length\n",
    "                cnt = 1\n",
    "            else:\n",
    "                output += str(cnt) + tmp\n",
    "                left += length\n",
    "                cnt = 1\n",
    "    output += input1[left:]\n",
    "    return output"
   ]
  },
  {
   "cell_type": "code",
   "execution_count": 60,
   "id": "confident-valentine",
   "metadata": {},
   "outputs": [],
   "source": [
    "min_num = 1000\n",
    "for i in range(1,max_length+1):\n",
    "    min_num = min(min_num, len(do(s, i)))"
   ]
  },
  {
   "cell_type": "code",
   "execution_count": 55,
   "id": "fleet-indonesia",
   "metadata": {},
   "outputs": [],
   "source": [
    "max_length = len('a')//2"
   ]
  },
  {
   "cell_type": "code",
   "execution_count": 56,
   "id": "viral-bronze",
   "metadata": {},
   "outputs": [
    {
     "data": {
      "text/plain": [
       "0"
      ]
     },
     "execution_count": 56,
     "metadata": {},
     "output_type": "execute_result"
    }
   ],
   "source": []
  },
  {
   "cell_type": "code",
   "execution_count": null,
   "id": "closing-recall",
   "metadata": {},
   "outputs": [],
   "source": []
  },
  {
   "cell_type": "code",
   "execution_count": null,
   "id": "close-chick",
   "metadata": {},
   "outputs": [],
   "source": []
  },
  {
   "cell_type": "code",
   "execution_count": null,
   "id": "partial-israeli",
   "metadata": {},
   "outputs": [],
   "source": []
  },
  {
   "cell_type": "code",
   "execution_count": null,
   "id": "structural-trainer",
   "metadata": {},
   "outputs": [],
   "source": []
  },
  {
   "cell_type": "code",
   "execution_count": null,
   "id": "current-slope",
   "metadata": {},
   "outputs": [],
   "source": []
  },
  {
   "cell_type": "code",
   "execution_count": null,
   "id": "eleven-tanzania",
   "metadata": {},
   "outputs": [],
   "source": []
  },
  {
   "cell_type": "code",
   "execution_count": null,
   "id": "nominated-volume",
   "metadata": {},
   "outputs": [],
   "source": []
  },
  {
   "cell_type": "code",
   "execution_count": null,
   "id": "unsigned-customs",
   "metadata": {},
   "outputs": [],
   "source": []
  },
  {
   "cell_type": "code",
   "execution_count": 21,
   "id": "opening-latter",
   "metadata": {},
   "outputs": [],
   "source": [
    "max_length = len(input1)//2\n",
    "\n",
    "def do(data, length):\n",
    "    left = 0\n",
    "    output = []\n",
    "    cnt = 0\n",
    "\n",
    "\n",
    "    while left < len(input1):\n",
    "        tmp = data[left:left+length]\n",
    "        try:\n",
    "            if tmp == data[left+length:left+length*2]:\n",
    "                 cnt += 1\n",
    "            else:\n",
    "                if cnt <= 1:\n",
    "                    output.append(tmp)\n",
    "                else:\n",
    "                    output.append(str(cnt) + tmp)\n",
    "        except:\n",
    "            if cnt <= 1:\n",
    "                output.append(tmp+data[left+length:])\n",
    "            else:\n",
    "                output.append(str(cnt)+tmp+data[left+length:])\n",
    "        left += length\n",
    "        \n",
    "    return output"
   ]
  },
  {
   "cell_type": "code",
   "execution_count": 22,
   "id": "protecting-publicity",
   "metadata": {},
   "outputs": [
    {
     "data": {
      "text/plain": [
       "['ababcdc', 'dababcd']"
      ]
     },
     "execution_count": 22,
     "metadata": {},
     "output_type": "execute_result"
    }
   ],
   "source": [
    "do(input2, 7)"
   ]
  },
  {
   "cell_type": "code",
   "execution_count": null,
   "id": "interstate-prague",
   "metadata": {},
   "outputs": [],
   "source": []
  }
 ],
 "metadata": {
  "kernelspec": {
   "display_name": "Python 3",
   "language": "python",
   "name": "python3"
  },
  "language_info": {
   "codemirror_mode": {
    "name": "ipython",
    "version": 3
   },
   "file_extension": ".py",
   "mimetype": "text/x-python",
   "name": "python",
   "nbconvert_exporter": "python",
   "pygments_lexer": "ipython3",
   "version": "3.8.6"
  }
 },
 "nbformat": 4,
 "nbformat_minor": 5
}
