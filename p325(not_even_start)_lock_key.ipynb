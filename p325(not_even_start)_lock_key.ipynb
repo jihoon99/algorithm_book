{
 "cells": [
  {
   "cell_type": "code",
   "execution_count": 1,
   "id": "referenced-stable",
   "metadata": {},
   "outputs": [],
   "source": [
    "key = [[0,0,0], \n",
    "       [1,0,0], \n",
    "       [0,1,1]]\n",
    "\n",
    "lock = [[1,1,1],\n",
    "       [1,1,0],\n",
    "       [1,0,1]]"
   ]
  },
  {
   "cell_type": "code",
   "execution_count": 8,
   "id": "adapted-argentina",
   "metadata": {},
   "outputs": [
    {
     "data": {
      "text/plain": [
       "array([[0, 1, 0],\n",
       "       [1, 0, 0],\n",
       "       [1, 0, 0]])"
      ]
     },
     "execution_count": 8,
     "metadata": {},
     "output_type": "execute_result"
    }
   ],
   "source": [
    "import numpy as np\n",
    "\n",
    "\n",
    "key = np.array(key)\n",
    "lock = np.array(lock)\n",
    "\n",
    "\n",
    "def rotate_reverse(mat):\n",
    "    ''' 시계반대방향 '''\n",
    "    return np.rot90(mat)\n",
    "def rotate_clock(mat):\n",
    "    ''' 시계방향 '''\n",
    "    return np.rot90(mat, axes = (1,0))\n",
    "\n",
    "\n",
    "\n"
   ]
  },
  {
   "cell_type": "code",
   "execution_count": null,
   "id": "broken-designer",
   "metadata": {},
   "outputs": [],
   "source": []
  }
 ],
 "metadata": {
  "kernelspec": {
   "display_name": "Python 3",
   "language": "python",
   "name": "python3"
  },
  "language_info": {
   "codemirror_mode": {
    "name": "ipython",
    "version": 3
   },
   "file_extension": ".py",
   "mimetype": "text/x-python",
   "name": "python",
   "nbconvert_exporter": "python",
   "pygments_lexer": "ipython3",
   "version": "3.8.6"
  }
 },
 "nbformat": 4,
 "nbformat_minor": 5
}
