{
 "cells": [
  {
   "cell_type": "code",
   "execution_count": 4,
   "id": "experimental-entity",
   "metadata": {},
   "outputs": [],
   "source": [
    "balls = [1,3,2,3,2]         # 8\n",
    "balls = [1,5,4,3,2,4,5,2]   #. 25"
   ]
  },
  {
   "cell_type": "code",
   "execution_count": 5,
   "id": "angry-moore",
   "metadata": {},
   "outputs": [],
   "source": [
    "cnt = 0\n",
    "while len(balls) > 0:\n",
    "    picked_ball = balls[0]\n",
    "    balls = balls[1:]\n",
    "    \n",
    "    for i in balls:\n",
    "        if i != picked_ball:\n",
    "            cnt += 1\n",
    "        \n",
    "    \n",
    "    "
   ]
  },
  {
   "cell_type": "markdown",
   "id": "pointed-worker",
   "metadata": {},
   "source": [
    "# 다른방법: dict를 활용"
   ]
  },
  {
   "cell_type": "code",
   "execution_count": null,
   "id": "integrated-submission",
   "metadata": {},
   "outputs": [],
   "source": []
  }
 ],
 "metadata": {
  "kernelspec": {
   "display_name": "Python 3",
   "language": "python",
   "name": "python3"
  },
  "language_info": {
   "codemirror_mode": {
    "name": "ipython",
    "version": 3
   },
   "file_extension": ".py",
   "mimetype": "text/x-python",
   "name": "python",
   "nbconvert_exporter": "python",
   "pygments_lexer": "ipython3",
   "version": "3.8.6"
  }
 },
 "nbformat": 4,
 "nbformat_minor": 5
}
